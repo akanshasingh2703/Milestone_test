{
  "nbformat": 4,
  "nbformat_minor": 0,
  "metadata": {
    "colab": {
      "provenance": []
    },
    "kernelspec": {
      "name": "python3",
      "display_name": "Python 3"
    },
    "language_info": {
      "name": "python"
    }
  },
  "cells": [
    {
      "cell_type": "markdown",
      "source": [
        "1.1\n"
      ],
      "metadata": {
        "id": "XhYjs9zMqQjg"
      }
    },
    {
      "cell_type": "code",
      "execution_count": null,
      "metadata": {
        "colab": {
          "base_uri": "https://localhost:8080/"
        },
        "id": "37ZTawn8pl2E",
        "outputId": "9fa9ed4a-621c-4ee8-876c-dcb64e8ed6dd"
      },
      "outputs": [
        {
          "output_type": "stream",
          "name": "stdout",
          "text": [
            "0\n",
            "1\n",
            "2\n",
            "10\n",
            "10\n"
          ]
        }
      ],
      "source": [
        "#What is the difference between static and dynamic variables in Python?\n",
        "\n",
        "class MyClass:\n",
        "    static_var = 0  # Static variable\n",
        "\n",
        "    def __init__(self, dynamic_var):\n",
        "        self.dynamic_var = dynamic_var  # Dynamic variable\n",
        "\n",
        "# Static variable shared by all instances\n",
        "print(MyClass.static_var)\n",
        "\n",
        "obj1 = MyClass(1)\n",
        "obj2 = MyClass(2)\n",
        "\n",
        "# Dynamic variables unique to each instance\n",
        "print(obj1.dynamic_var)  # Output: 1\n",
        "print(obj2.dynamic_var)  # Output: 2\n",
        "\n",
        "# Static variable can be accessed using class name\n",
        "MyClass.static_var = 10\n",
        "print(obj1.static_var)  # Output: 10\n",
        "print(obj2.static_var)  # Output: 10\n",
        "\n",
        "\n"
      ]
    },
    {
      "cell_type": "code",
      "source": [
        "#Explain the purpose of \"pop\",\"popitem\",\"clear()\" in a dictionary with suitable examples.\n",
        "\n",
        "# Example dictionary\n",
        "d = {'a': 1, 'b': 2, 'c': 3}\n",
        "\n",
        "# pop\n",
        "value = d.pop('a')\n",
        "print(value)  # Output: 1\n",
        "print(d)  # Output: {'b': 2, 'c': 3}\n",
        "\n",
        "# popitem\n",
        "key, value = d.popitem()\n",
        "print(key, value)  # Output: 'c' 3\n",
        "print(d)  # Output: {'b': 2}\n",
        "\n",
        "# clear\n",
        "d.clear()\n",
        "print(d)  # Output: {}\n"
      ],
      "metadata": {
        "colab": {
          "base_uri": "https://localhost:8080/"
        },
        "id": "JGeDGKrtqZQ2",
        "outputId": "803facb7-4019-4b0b-8e5f-d301c952d81f"
      },
      "execution_count": null,
      "outputs": [
        {
          "output_type": "stream",
          "name": "stdout",
          "text": [
            "1\n",
            "{'b': 2, 'c': 3}\n",
            "c 3\n",
            "{'b': 2}\n",
            "{}\n"
          ]
        }
      ]
    },
    {
      "cell_type": "code",
      "source": [
        "#What do you mean by FrozenSet? Explain it with suitable examples.\n",
        "# Creating a frozenset\n",
        "fset = frozenset([1, 2, 3, 4])\n",
        "print(fset)  # Output: frozenset({1, 2, 3, 4})\n",
        "\n",
        "# Trying to add or remove elements will raise an error\n",
        "# fset.add(5)  # AttributeError\n",
        "# fset.remove(1)  # AttributeError\n"
      ],
      "metadata": {
        "colab": {
          "base_uri": "https://localhost:8080/"
        },
        "id": "k0hicUdWqf3a",
        "outputId": "70d4f073-86ee-4e0c-9a3b-9f46de93e88d"
      },
      "execution_count": null,
      "outputs": [
        {
          "output_type": "stream",
          "name": "stdout",
          "text": [
            "frozenset({1, 2, 3, 4})\n"
          ]
        }
      ]
    },
    {
      "cell_type": "code",
      "source": [
        "#Differentiate between mutable and immutable data types in Python and give examples of mutable and immutable data types.\n",
        "# Mutable\n",
        "lst = [1, 2, 3]\n",
        "lst.append(4)  # List can be changed\n",
        "print(lst)  # Output: [1, 2, 3, 4]\n",
        "\n",
        "# Immutable\n",
        "tup = (1, 2, 3)\n",
        "# tup[0] = 4  # TypeError: 'tuple' object does not support item assignment\n"
      ],
      "metadata": {
        "colab": {
          "base_uri": "https://localhost:8080/"
        },
        "id": "SplHf67eqf6s",
        "outputId": "69a8a220-51d1-4cc9-c92f-c247d2751787"
      },
      "execution_count": null,
      "outputs": [
        {
          "output_type": "stream",
          "name": "stdout",
          "text": [
            "[1, 2, 3, 4]\n"
          ]
        }
      ]
    },
    {
      "cell_type": "code",
      "source": [
        "#What is __init__?Explain with an example.\n",
        "class Person:\n",
        "    def __init__(self, name, age):\n",
        "        self.name = name\n",
        "        self.age = age\n",
        "\n",
        "p = Person('Alice', 30)\n",
        "print(p.name, p.age)  # Output: Alice 30\n"
      ],
      "metadata": {
        "colab": {
          "base_uri": "https://localhost:8080/"
        },
        "id": "0LUSeXaGqf9s",
        "outputId": "ad6c7000-b773-4bde-83b8-17954f8f0a89"
      },
      "execution_count": null,
      "outputs": [
        {
          "output_type": "stream",
          "name": "stdout",
          "text": [
            "Alice 30\n"
          ]
        }
      ]
    },
    {
      "cell_type": "code",
      "source": [
        "#What is docstring in Python? Explain with an example.\n",
        "def greet(name):\n",
        "    \"\"\"\n",
        "    This function greets the person whose name is passed as an argument.\n",
        "    \"\"\"\n",
        "    print(f\"Hello, {name}!\")\n",
        "\n",
        "print(greet.__doc__)  # Output: This function greets the person whose name is passed as an argument.\n"
      ],
      "metadata": {
        "colab": {
          "base_uri": "https://localhost:8080/"
        },
        "id": "qeDs8jicqgA5",
        "outputId": "260ca578-486b-4f8e-9da7-939c181a36b3"
      },
      "execution_count": null,
      "outputs": [
        {
          "output_type": "stream",
          "name": "stdout",
          "text": [
            "\n",
            "    This function greets the person whose name is passed as an argument.\n",
            "    \n"
          ]
        }
      ]
    },
    {
      "cell_type": "code",
      "source": [
        "#What are unit tests in Python?\n",
        "\n",
        "import unittest\n",
        "\n",
        "def add(a, b):\n",
        "    return a + b\n",
        "\n",
        "class TestAddFunction(unittest.TestCase):\n",
        "    def test_add(self):\n",
        "        self.assertEqual(add(1, 2), 3)\n",
        "        self.assertEqual(add(-1, 1), 0)\n",
        "\n",
        "if __name__ == '__main__':\n",
        "    unittest.main()\n"
      ],
      "metadata": {
        "id": "x1LdPO5kqgDy"
      },
      "execution_count": null,
      "outputs": []
    },
    {
      "cell_type": "code",
      "source": [
        "#What is break, continue and pass in Python?\n",
        "\n",
        "for i in range(5):\n",
        "    if i == 2:\n",
        "        break\n",
        "    print(i)  # Output: 0 1\n",
        "\n",
        "for i in range(5):\n",
        "    if i == 2:\n",
        "        continue\n",
        "    print(i)  # Output: 0 1 3 4\n",
        "\n",
        "def placeholder():\n",
        "    pass  # Does nothing\n"
      ],
      "metadata": {
        "colab": {
          "base_uri": "https://localhost:8080/"
        },
        "id": "bH3DTuK2qgHG",
        "outputId": "1759ef9b-35ec-42a4-9bd2-d4123f9f4c78"
      },
      "execution_count": null,
      "outputs": [
        {
          "output_type": "stream",
          "name": "stdout",
          "text": [
            "0\n",
            "1\n",
            "0\n",
            "1\n",
            "3\n",
            "4\n"
          ]
        }
      ]
    },
    {
      "cell_type": "code",
      "source": [
        "#What is the use of self in Python?\n",
        "\n",
        "class MyClass:\n",
        "    def __init__(self, value):\n",
        "        self.value = value\n",
        "\n",
        "    def show_value(self):\n",
        "        print(self.value)\n",
        "\n",
        "obj = MyClass(10)\n",
        "obj.show_value()  # Output: 10\n"
      ],
      "metadata": {
        "colab": {
          "base_uri": "https://localhost:8080/"
        },
        "id": "dsSmuCBuqgKN",
        "outputId": "2c5f86b0-d62c-4d04-8f88-43464acd96ea"
      },
      "execution_count": null,
      "outputs": [
        {
          "output_type": "stream",
          "name": "stdout",
          "text": [
            "10\n"
          ]
        }
      ]
    },
    {
      "cell_type": "code",
      "source": [
        "#What are global, protected and private attributes in Python?\n",
        "\n",
        "class MyClass:\n",
        "    def __init__(self):\n",
        "        self.public = \"public\"\n",
        "        self._protected = \"protected\"\n",
        "        self.__private = \"private\"\n",
        "\n",
        "obj = MyClass()\n",
        "print(obj.public)  # Output: public\n",
        "print(obj._protected)  # Output: protected\n",
        "# print(obj.__private)  # AttributeError\n",
        "print(obj._MyClass__private)  # Output: private\n"
      ],
      "metadata": {
        "colab": {
          "base_uri": "https://localhost:8080/"
        },
        "id": "eWmEAEmkqgNn",
        "outputId": "d03aa1b7-d6d6-4007-9622-207a8fb18df6"
      },
      "execution_count": null,
      "outputs": [
        {
          "output_type": "stream",
          "name": "stdout",
          "text": [
            "public\n",
            "protected\n",
            "private\n"
          ]
        }
      ]
    },
    {
      "cell_type": "code",
      "source": [
        "#What are modules and packages in Python?\n",
        "\n",
        "# mymodule.py\n",
        "def greet():\n",
        "    print(\"Hello, world!\")\n",
        "\n",
        "# main.py\n",
        "import mymodule\n",
        "mymodule.greet()  # Output: Hello, world!\n"
      ],
      "metadata": {
        "id": "hpBpzOrpqgQl"
      },
      "execution_count": null,
      "outputs": []
    },
    {
      "cell_type": "code",
      "source": [
        "#What are lists and tuples? What is the key difference between the two?\n",
        "\n",
        "lst = [1, 2, 3]\n",
        "tup = (1, 2, 3)\n",
        "\n",
        "lst[0] = 10  # List can be modified\n",
        "# tup[0] = 10  # Tuple cannot be modified\n"
      ],
      "metadata": {
        "id": "W-JhBd0oqgT7"
      },
      "execution_count": null,
      "outputs": []
    },
    {
      "cell_type": "code",
      "source": [
        "#What are Dict and List comprehensions?\n",
        "\n",
        "# List comprehension\n",
        "lst = [x**2 for x in range(5)]\n",
        "print(lst)  # Output: [0, 1, 4, 9, 16]\n",
        "\n",
        "# Dict comprehension\n",
        "d = {x: x**2 for x in range(5)}\n",
        "print(d)  # Output: {0: 0, 1: 1, 2: 4, 3: 9, 4: 16}\n"
      ],
      "metadata": {
        "id": "l0ll_MGXqgaL"
      },
      "execution_count": null,
      "outputs": []
    },
    {
      "cell_type": "code",
      "source": [
        "#What are decorators in Python? Explain it with an example.Write down its use cases.\n",
        "\n",
        "def my_decorator(func):\n",
        "    def wrapper():\n",
        "        print(\"Something is happening before the function is called.\")\n",
        "        func()\n",
        "        print(\"Something is happening after the function is called.\")\n",
        "    return wrapper\n",
        "\n",
        "@my_decorator\n",
        "def say_hello():\n",
        "    print(\"Hello!\")\n",
        "\n",
        "say_hello()\n",
        "# Output:\n",
        "# Something is happening before the function is called.\n",
        "# Hello!\n",
        "# Something is happening after the function is called.\n"
      ],
      "metadata": {
        "id": "juIdVZBPqgdQ"
      },
      "execution_count": null,
      "outputs": []
    },
    {
      "cell_type": "code",
      "source": [
        "#What is lambda in Python? Why is it used?\n",
        "\n",
        "add = lambda x, y: x + y\n",
        "print(add(2, 3))  # Output: 5\n"
      ],
      "metadata": {
        "id": "lE8Gg1p4qhDP"
      },
      "execution_count": null,
      "outputs": []
    },
    {
      "cell_type": "code",
      "source": [
        "#Explain split() and join() functions in Python?\n",
        "\n",
        "text = \"hello world\"\n",
        "words = text.split()\n",
        "print(words)  # Output: ['hello', 'world']\n",
        "\n",
        "\n",
        "words = ['hello', 'world']\n",
        "text = ' '.join(words)\n",
        "print(text)  # Output: 'hello world'\n",
        "\n"
      ],
      "metadata": {
        "id": "Bj_6oVbYqhGG"
      },
      "execution_count": null,
      "outputs": []
    },
    {
      "cell_type": "code",
      "source": [
        "#What are iterators, iterable & generators in Python?\n",
        "\n",
        "#iterators\n",
        "lst = [1, 2, 3]\n",
        "iterator = iter(lst)\n",
        "print(next(iterator))  # Output: 1\n",
        "print(next(iterator))  # Output: 2\n",
        "print(next(iterator))  # Output: 3\n",
        "\n",
        "\n",
        "#iterable\n",
        "\n",
        "lst = [1, 2, 3]\n",
        "for item in lst:\n",
        "    print(item)\n",
        "\n",
        "\n",
        "\n",
        "#generators\n",
        "\n",
        "def count_up_to(max):\n",
        "    count = 1\n",
        "    while count <= max:\n",
        "        yield count\n",
        "        count += 1\n",
        "\n",
        "counter = count_up_to(3)\n",
        "print(next(counter))  # Output: 1\n",
        "print(next(counter))  # Output: 2\n",
        "print(next(counter))  # Output: 3\n"
      ],
      "metadata": {
        "id": "2ng0AfgSqhI6"
      },
      "execution_count": null,
      "outputs": []
    },
    {
      "cell_type": "code",
      "source": [
        "#explain the following with an example :What is the difference between xrange and range in Python?\n",
        "\n",
        "# Python 2 example\n",
        "for i in range(5):\n",
        "    print(i)  # Output: 0 1 2 3 4\n",
        "\n",
        "for i in xrange(5):\n",
        "    print(i)  # Output: 0 1 2 3 4\n"
      ],
      "metadata": {
        "id": "_hAOMIihqhL5"
      },
      "execution_count": null,
      "outputs": []
    },
    {
      "cell_type": "code",
      "source": [
        "#How will you check if a class is a child of another class?\n",
        "class Parent:\n",
        "    pass\n",
        "\n",
        "class Child(Parent):\n",
        "    pass\n",
        "\n",
        "print(issubclass(Child, Parent))  # Output: True\n",
        "\n"
      ],
      "metadata": {
        "id": "BYSUruXAqhRy"
      },
      "execution_count": null,
      "outputs": []
    },
    {
      "cell_type": "code",
      "source": [
        "#How does inheritance work in python? Explain all types of inheritance with an example.\n",
        "\n",
        "# Single Inheritance\n",
        "class A:\n",
        "    pass\n",
        "\n",
        "class B(A):\n",
        "    pass\n",
        "\n",
        "# Multiple Inheritance\n",
        "class C:\n",
        "    pass\n",
        "\n",
        "class D(A, C):\n",
        "    pass\n",
        "\n",
        "# Multilevel Inheritance\n",
        "class E(A):\n",
        "    pass\n",
        "\n",
        "class F(E):\n",
        "    pass\n",
        "\n",
        "# Hierarchical Inheritance\n",
        "class G(A):\n",
        "    pass\n",
        "\n",
        "class H(A):\n",
        "    pass\n",
        "\n",
        "# Hybrid Inheritance\n",
        "class I(D, E):\n",
        "    pass\n"
      ],
      "metadata": {
        "id": "Sm_HwIhWqhU4"
      },
      "execution_count": null,
      "outputs": []
    },
    {
      "cell_type": "code",
      "source": [
        "#What is encapsulation? Explain it with an example.\n",
        "\n",
        "class EncapsulatedClass:\n",
        "    def __init__(self):\n",
        "        self.__private = \"Private\"\n",
        "\n",
        "    def get_private(self):\n",
        "        return self.__private\n",
        "\n",
        "obj = EncapsulatedClass()\n",
        "print(obj.get_private())  # Output: Private\n",
        "# print(obj.__private)  # AttributeError\n"
      ],
      "metadata": {
        "id": "soi9z3PeqhYY"
      },
      "execution_count": null,
      "outputs": []
    },
    {
      "cell_type": "code",
      "source": [
        "#What is polymorphism? Explain it with an example.\n",
        "\n",
        "class Cat:\n",
        "    def speak(self):\n",
        "        return \"Meow\"\n",
        "\n",
        "class Dog:\n",
        "    def speak(self):\n",
        "        return \"Bark\"\n",
        "\n",
        "def animal_speak(animal):\n",
        "    print(animal.speak())\n",
        "\n",
        "cat = Cat()\n",
        "dog = Dog()\n",
        "animal_speak(cat)  # Output: Meow\n",
        "animal_speak(dog)  # Output: Bark\n"
      ],
      "metadata": {
        "colab": {
          "base_uri": "https://localhost:8080/"
        },
        "id": "PvK2ezGCqhbw",
        "outputId": "aa550d24-ae62-441c-ab8b-503019f88477"
      },
      "execution_count": null,
      "outputs": [
        {
          "output_type": "stream",
          "name": "stdout",
          "text": [
            "Meow\n",
            "Bark\n"
          ]
        }
      ]
    },
    {
      "cell_type": "markdown",
      "source": [
        "Question 1.3"
      ],
      "metadata": {
        "id": "cmDfW_kmwn0P"
      }
    },
    {
      "cell_type": "code",
      "source": [
        "name = [\"Mohan\", \"dash\", \"karam\", \"chandra\", \"gandhi\", \"Bapu\"]\n"
      ],
      "metadata": {
        "id": "YrC1o2vjy3pC"
      },
      "execution_count": null,
      "outputs": []
    },
    {
      "cell_type": "code",
      "source": [
        "#a) Add an element \"freedom_fighter\" at the 0th index:\n",
        "\n",
        "name.insert(0, \"freedom_fighter\")\n",
        "print(\"After adding 'freedom_fighter' at 0th index:\", name)\n"
      ],
      "metadata": {
        "colab": {
          "base_uri": "https://localhost:8080/"
        },
        "id": "HsHRk3cbys6c",
        "outputId": "2ef4487e-e5e6-411a-a06c-8af4843f43a3"
      },
      "execution_count": null,
      "outputs": [
        {
          "output_type": "stream",
          "name": "stdout",
          "text": [
            "After adding 'freedom_fighter' at 0th index: ['freedom_fighter', 'Mohan', 'dash', 'karam', 'chandra', 'gandhi', 'Bapu']\n"
          ]
        }
      ]
    },
    {
      "cell_type": "code",
      "source": [
        "#b) Calculate the lengths and their sum:\n",
        "\n",
        "\n",
        "name = [\"freedom Fighter\", \"Bapuji\", \"Mohan\", \"dash\", \"karam\", \"chandra\", \"gandhi\"]\n",
        "\n",
        "length1 = len(name[-len(name)+1:-1:2])\n",
        "length2 = len(name[-len(name)+1:-1])\n",
        "print(length1 + length2)\n",
        "\n",
        "\n",
        "\n",
        "\"\"\"name[-len(name)+1:-1:2]: This slice operation starts at the second element (index 1), goes up to the second-to-last element (excluding the last element), and takes every second element. The elements taken will be: ['Bapuji', 'dash', 'chandra'].\n",
        "So, length1 will be 3.\n",
        "name[-len(name)+1:-1]: This slice operation starts at the second element (index 1) and goes up to the second-to-last element (excluding the last element). The elements taken will be: ['Bapuji', 'Mohan', 'dash', 'karam', 'chandra'].\n",
        "So, length2 will be 5.\n",
        "The sum of length1 and length2 will be 3 + 5 = 8.\"\"\"\n"
      ],
      "metadata": {
        "colab": {
          "base_uri": "https://localhost:8080/"
        },
        "id": "LPlHBxROys91",
        "outputId": "6679c8ee-4018-42a7-9ee1-8d9d4649156c"
      },
      "execution_count": null,
      "outputs": [
        {
          "output_type": "stream",
          "name": "stdout",
          "text": [
            "8\n"
          ]
        }
      ]
    },
    {
      "cell_type": "code",
      "source": [
        "#  Add two more elements [\"Netaji\", \"Bose\"] at the end of the list:\n",
        "\n",
        "\n",
        "name.extend([\"Netaji\", \"Bose\"])\n",
        "print(\"After adding 'Netaji' and 'Bose' at the end of the list:\", name)\n"
      ],
      "metadata": {
        "colab": {
          "base_uri": "https://localhost:8080/"
        },
        "id": "_cAyj0XhytBX",
        "outputId": "27e19e9d-122b-41c4-d387-c56115616681"
      },
      "execution_count": null,
      "outputs": [
        {
          "output_type": "stream",
          "name": "stdout",
          "text": [
            "After adding 'Netaji' and 'Bose' at the end of the list: ['freedom Fighter', 'Bapuji', 'Mohan', 'dash', 'karam', 'chandra', 'gandhi', 'Netaji', 'Bose']\n"
          ]
        }
      ]
    },
    {
      "cell_type": "code",
      "source": [
        "#d) Swap the first and last elements:\n",
        "\n",
        "name = [\"Bapuji\", \"dash\", \"karam\", \"chandra\", \"gandi\", \"Mohan\"]\n",
        "temp = name[-1]\n",
        "name[-1] = name[0]\n",
        "name[0] = temp\n",
        "print(\"Value of temp:\", temp)\n",
        "print(\"Final list after swapping first and last elements:\", name)\n"
      ],
      "metadata": {
        "colab": {
          "base_uri": "https://localhost:8080/"
        },
        "id": "3RwPe25hz8oH",
        "outputId": "900b3adc-644d-46ee-b6f8-5133e906bfe2"
      },
      "execution_count": null,
      "outputs": [
        {
          "output_type": "stream",
          "name": "stdout",
          "text": [
            "Value of temp: Mohan\n",
            "Final list after swapping first and last elements: ['Mohan', 'dash', 'karam', 'chandra', 'gandi', 'Bapuji']\n"
          ]
        }
      ]
    },
    {
      "cell_type": "code",
      "source": [
        "#Question 1.4.Find the output of the following.\n",
        "animal = ['Human','cat','mat','cat','rat','Human', 'Lion']\n",
        "print(animal.count('Human'))\n",
        "print(animal.index('rat'))\n",
        "print(len(animal))"
      ],
      "metadata": {
        "colab": {
          "base_uri": "https://localhost:8080/"
        },
        "id": "FCqtaHlX0pFh",
        "outputId": "1a68f19a-9ba8-46bd-b877-99eca9784e12"
      },
      "execution_count": null,
      "outputs": [
        {
          "output_type": "stream",
          "name": "stdout",
          "text": [
            "2\n",
            "4\n",
            "7\n"
          ]
        }
      ]
    },
    {
      "cell_type": "code",
      "source": [
        "#Question 1.5. tuple1=(10,20,\"Apple\",3.4,'a',[\"master\",\"ji\"],(\"sita\",\"geeta\",22),[{\"roll_no\"q1},{\"name\"q\"Navneet\"}])\n",
        "\"\"\"\n",
        "a)print(len(tuple1))\n",
        "b)print(tuple1[-1][-1][\"name\"])\n",
        "c)fetch the value of roll_no from this tuple.\n",
        "d)print(tuple1[-3][1])\n",
        "e)fetch the element \"22\" from this tuple\"\"\""
      ],
      "metadata": {
        "id": "8YtGchJp-__7"
      },
      "execution_count": null,
      "outputs": []
    },
    {
      "cell_type": "code",
      "source": [
        "tuple1 = (10, 20, \"Apple\", 3.4, 'a', [\"master\", \"ji\"], (\"sita\", \"geeta\", 22), [{\"roll_no\": 1}, {\"name\": \"Navneet\"}])\n",
        "\n",
        "# a) Print the length of tuple1\n",
        "print(len(tuple1))\n",
        "\n",
        "# b) Print the value associated with the key \"name\" in the last dictionary within the tuple\n",
        "print(tuple1[-1][-1][\"name\"])\n",
        "\n",
        "# c) Fetch the value of roll_no from this tuple\n",
        "print(tuple1[-1][0][\"roll_no\"])\n",
        "\n",
        "# d) Print the second element of the third last element in the tuple\n",
        "print(tuple1[-3][1])\n",
        "\n",
        "# e) Fetch the element 22 from this tuple\n",
        "print(tuple1[-2][2])\n"
      ],
      "metadata": {
        "colab": {
          "base_uri": "https://localhost:8080/"
        },
        "id": "RS8zrvu8Ff8U",
        "outputId": "a06fa5a9-6dda-4898-a029-aa4d93da3750"
      },
      "execution_count": null,
      "outputs": [
        {
          "output_type": "stream",
          "name": "stdout",
          "text": [
            "8\n",
            "Navneet\n",
            "1\n",
            "ji\n",
            "22\n"
          ]
        }
      ]
    },
    {
      "cell_type": "code",
      "source": [
        "#1.6. Write a program to display the appropriate message as per the color of signal(RED-Stop/Yellow-Stay/Green-Go) at the road crossing.\n",
        "\n",
        "# Function to display the message based on signal color\n",
        "def traffic_signal_message(signal_color):\n",
        "    if signal_color.lower() == 'red':\n",
        "        return \"Stop\"\n",
        "    elif signal_color.lower() == 'yellow':\n",
        "        return \"Stay\"\n",
        "    elif signal_color.lower() == 'green':\n",
        "        return \"Go\"\n",
        "    else:\n",
        "        return \"Invalid signal color\"\n",
        "\n",
        "# Input signal color from the user\n",
        "signal_color = input(\"Enter the signal color (Red/Yellow/Green): \")\n",
        "\n",
        "# Display the appropriate message\n",
        "message = traffic_signal_message(signal_color)\n",
        "print(message)\n"
      ],
      "metadata": {
        "colab": {
          "base_uri": "https://localhost:8080/"
        },
        "id": "5NyR35aAIry2",
        "outputId": "62089720-8ccb-403a-e74f-0b256838ce47"
      },
      "execution_count": null,
      "outputs": [
        {
          "output_type": "stream",
          "name": "stdout",
          "text": [
            "Enter the signal color (Red/Yellow/Green): yellow\n",
            "Stay\n"
          ]
        }
      ]
    },
    {
      "cell_type": "code",
      "source": [
        "#1.7. Write a program to create a simple calculator performing only four basic operations(+,-,/,*) .\n",
        "\n",
        "def add(x, y):\n",
        "    return x + y\n",
        "\n",
        "def subtract(x, y):\n",
        "    return x - y\n",
        "\n",
        "def multiply(x, y):\n",
        "    return x * y\n",
        "\n",
        "def divide(x, y):\n",
        "    if y != 0:\n",
        "        return x / y\n",
        "    else:\n",
        "        return \"Error! Division by zero.\"\n",
        "\n",
        "print(\"Select operation:\")\n",
        "print(\"1. Add\")\n",
        "print(\"2. Subtract\")\n",
        "print(\"3. Multiply\")\n",
        "print(\"4. Divide\")\n",
        "\n",
        "choice = input(\"Enter choice(1/2/3/4): \")\n",
        "\n",
        "num1 = float(input(\"Enter first number: \"))\n",
        "num2 = float(input(\"Enter second number: \"))\n",
        "\n",
        "if choice == '1':\n",
        "    print(f\"{num1} + {num2} = {add(num1, num2)}\")\n",
        "elif choice == '2':\n",
        "    print(f\"{num1} - {num2} = {subtract(num1, num2)}\")\n",
        "elif choice == '3':\n",
        "    print(f\"{num1} * {num2} = {multiply(num1, num2)}\")\n",
        "elif choice == '4':\n",
        "    print(f\"{num1} / {num2} = {divide(num1, num2)}\")\n",
        "else:\n",
        "    print(\"Invalid input\")\n",
        "\n"
      ],
      "metadata": {
        "colab": {
          "base_uri": "https://localhost:8080/"
        },
        "id": "bgfHLRajKbga",
        "outputId": "449a6a3f-1f12-40e2-c46d-ad6d4b6b01d4"
      },
      "execution_count": null,
      "outputs": [
        {
          "output_type": "stream",
          "name": "stdout",
          "text": [
            "Select operation:\n",
            "1. Add\n",
            "2. Subtract\n",
            "3. Multiply\n",
            "4. Divide\n",
            "Enter choice(1/2/3/4): 3\n",
            "Enter first number: 4\n",
            "Enter second number: 5\n",
            "4.0 * 5.0 = 20.0\n"
          ]
        }
      ]
    },
    {
      "cell_type": "code",
      "source": [
        "#1.8. Write a program to find the larger of the three pre-specified numbers using ternary operators\n",
        "\n",
        "\n",
        "a = 10\n",
        "b = 20\n",
        "c = 30\n",
        "\n",
        "largest = a if (a > b and a > c) else (b if b > c else c)\n",
        "print(\"The largest number is\", largest)\n"
      ],
      "metadata": {
        "colab": {
          "base_uri": "https://localhost:8080/"
        },
        "id": "zCk_GIHtLMFZ",
        "outputId": "278b2d36-bf33-4b9b-922c-603ca0cb1a3f"
      },
      "execution_count": null,
      "outputs": [
        {
          "output_type": "stream",
          "name": "stdout",
          "text": [
            "The largest number is 30\n"
          ]
        }
      ]
    },
    {
      "cell_type": "code",
      "source": [
        "#1.9. Write a program to find the factors of a whole number using a while loop.\n",
        "\n",
        "number = int(input(\"Enter a number: \"))\n",
        "i = 1\n",
        "\n",
        "print(f\"Factors of {number} are:\")\n",
        "while i <= number:\n",
        "    if number % i == 0:\n",
        "        print(i)\n",
        "    i += 1\n"
      ],
      "metadata": {
        "colab": {
          "base_uri": "https://localhost:8080/"
        },
        "id": "ZA1NprdKMVWX",
        "outputId": "684593b4-aa72-410a-e841-ceb7803b290f"
      },
      "execution_count": null,
      "outputs": [
        {
          "output_type": "stream",
          "name": "stdout",
          "text": [
            "Enter a number: 3\n",
            "Factors of 3 are:\n",
            "1\n",
            "3\n"
          ]
        }
      ]
    },
    {
      "cell_type": "code",
      "source": [
        "#1.10. Write a program to find the sum of all the positive numbers entered by the user. As soon as the userenters a negative number, stop taking in any further input from the user and display the sum .\n",
        "\n",
        "sum = 0\n",
        "\n",
        "while True:\n",
        "    num = int(input(\"Enter a number: \"))\n",
        "    if num < 0:\n",
        "        break\n",
        "    sum += num\n",
        "\n",
        "print(\"The sum of all positive numbers entered is:\", sum)\n"
      ],
      "metadata": {
        "colab": {
          "base_uri": "https://localhost:8080/"
        },
        "id": "QgRBDAnoMiMY",
        "outputId": "b452b948-6294-4551-a1f2-aa20412b3b4d"
      },
      "execution_count": null,
      "outputs": [
        {
          "output_type": "stream",
          "name": "stdout",
          "text": [
            "Enter a number: 5\n",
            "Enter a number: 6\n",
            "Enter a number: 3\n",
            "Enter a number: 6\n",
            "Enter a number: 6\n",
            "Enter a number: -1\n",
            "The sum of all positive numbers entered is: 26\n"
          ]
        }
      ]
    },
    {
      "cell_type": "code",
      "source": [
        "#1.11. Write a program to find prime numbers between 2 to 100 using nested for loops.\n",
        "\n",
        "print(\"Prime numbers between 2 and 100 are:\")\n",
        "\n",
        "for num in range(2, 101):\n",
        "    is_prime = True\n",
        "    for i in range(2, num):\n",
        "        if num % i == 0:\n",
        "            is_prime = False\n",
        "            break\n",
        "    if is_prime:\n",
        "        print(num)\n"
      ],
      "metadata": {
        "colab": {
          "base_uri": "https://localhost:8080/"
        },
        "id": "4vPKVJoSMnxR",
        "outputId": "9961ff13-274f-4c8e-8d77-194e5ff7b54e"
      },
      "execution_count": null,
      "outputs": [
        {
          "output_type": "stream",
          "name": "stdout",
          "text": [
            "Prime numbers between 2 and 100 are:\n",
            "2\n",
            "3\n",
            "5\n",
            "7\n",
            "11\n",
            "13\n",
            "17\n",
            "19\n",
            "23\n",
            "29\n",
            "31\n",
            "37\n",
            "41\n",
            "43\n",
            "47\n",
            "53\n",
            "59\n",
            "61\n",
            "67\n",
            "71\n",
            "73\n",
            "79\n",
            "83\n",
            "89\n",
            "97\n"
          ]
        }
      ]
    },
    {
      "cell_type": "code",
      "source": [
        "\"\"\"1.12. Write the programs for the following:\n",
        "• Accept the marks of the student in five major subjects and display the same.\n",
        "Calculate the sum of the marks of all subjects. Divide the total marks by number of subjects (i.e. 5), calculate percentage = total marks/5 and display the percentage.\n",
        "Find the grade of the student as per the following criteria. Hint: Use Match & case for this.:\n",
        "Criteria\n",
        "Grade\n",
        "percentage > 85\n",
        "A\n",
        "percentage < 85 && percentage >= 75\n",
        "B\n",
        "percentage < 75 && percentage >= 50\n",
        "C\n",
        "percentage > 30 && percentage <= 50\n",
        "D\n",
        "percentage <30\n",
        "Reappear\"\"\"\n",
        "\n",
        "def get_grade(percentage):\n",
        "    match percentage:\n",
        "        case percentage if percentage > 85:\n",
        "            return 'A'\n",
        "        case percentage if 75 <= percentage <= 85:\n",
        "            return 'B'\n",
        "        case percentage if 50 <= percentage < 75:\n",
        "            return 'C'\n",
        "        case percentage if 30 < percentage < 50:\n",
        "            return 'D'\n",
        "        case _:\n",
        "            return 'Reappear'\n",
        "\n",
        "def main():\n",
        "    # Accept marks for five major subjects\n",
        "    subjects = ['Subject 1', 'Subject 2', 'Subject 3', 'Subject 4', 'Subject 5']\n",
        "    marks = []\n",
        "\n",
        "    for subject in subjects:\n",
        "        while True:\n",
        "            try:\n",
        "                mark = float(input(f\"Enter marks for {subject}: \"))\n",
        "                if 0 <= mark <= 100:\n",
        "                    marks.append(mark)\n",
        "                    break\n",
        "                else:\n",
        "                    print(\"Please enter a valid mark between 0 and 100.\")\n",
        "            except ValueError:\n",
        "                print(\"Invalid input. Please enter a number.\")\n",
        "\n",
        "    # Calculate total marks and percentage\n",
        "    total_marks = sum(marks)\n",
        "    percentage = total_marks / 5\n",
        "\n",
        "    # Determine grade\n",
        "    grade = get_grade(percentage)\n",
        "\n",
        "    # Display results\n",
        "    print(\"\\nMarks entered:\")\n",
        "    for subject, mark in zip(subjects, marks):\n",
        "        print(f\"{subject}: {mark}\")\n",
        "\n",
        "    print(f\"\\nTotal Marks: {total_marks}\")\n",
        "    print(f\"Percentage: {percentage:.2f}%\")\n",
        "    print(f\"Grade: {grade}\")\n",
        "\n",
        "if __name__ == \"__main__\":\n",
        "    main()\n",
        "\n",
        "\n"
      ],
      "metadata": {
        "id": "kFV8EYukMqWQ",
        "colab": {
          "base_uri": "https://localhost:8080/"
        },
        "outputId": "4c4e9798-e70b-4b55-ae6e-1f2e53c17992"
      },
      "execution_count": null,
      "outputs": [
        {
          "output_type": "stream",
          "name": "stdout",
          "text": [
            "Enter marks for Subject 1: 89\n",
            "Enter marks for Subject 2: 67\n",
            "Enter marks for Subject 3: 91\n",
            "Enter marks for Subject 4: 79\n",
            "Enter marks for Subject 5: 94\n",
            "\n",
            "Marks entered:\n",
            "Subject 1: 89.0\n",
            "Subject 2: 67.0\n",
            "Subject 3: 91.0\n",
            "Subject 4: 79.0\n",
            "Subject 5: 94.0\n",
            "\n",
            "Total Marks: 420.0\n",
            "Percentage: 84.00%\n",
            "Grade: B\n"
          ]
        }
      ]
    },
    {
      "cell_type": "code",
      "source": [
        "\"\"\"1.13. Write a program for VIBGYOR Spectrum based on their Wavelength using. Wavelength Range:\n",
        "COLOR\n",
        "WAVELENGTH (nm)\n",
        "Violet\n",
        "400.0-440.0\n",
        "Indigo\n",
        "440.0-460.0\n",
        "Blue\n",
        "460.0-500.0\n",
        "Green\n",
        "500.0-570.0\n",
        "Yellow\n",
        "570.0-590.0\n",
        "Orange\n",
        "590.0-620.0\n",
        "Red\n",
        "620.0-720.0\"\"\"\n",
        "\n",
        "def get_color(wavelength):\n",
        "    match wavelength:\n",
        "        case wavelength if 400.0 <= wavelength < 440.0:\n",
        "            return 'Violet'\n",
        "        case wavelength if 440.0 <= wavelength < 460.0:\n",
        "            return 'Indigo'\n",
        "        case wavelength if 460.0 <= wavelength < 500.0:\n",
        "            return 'Blue'\n",
        "        case wavelength if 500.0 <= wavelength < 570.0:\n",
        "            return 'Green'\n",
        "        case wavelength if 570.0 <= wavelength < 590.0:\n",
        "            return 'Yellow'\n",
        "        case wavelength if 590.0 <= wavelength < 620.0:\n",
        "            return 'Orange'\n",
        "        case wavelength if 620.0 <= wavelength <= 720.0:\n",
        "            return 'Red'\n",
        "        case _:\n",
        "            return 'Unknown'\n",
        "\n",
        "def main():\n",
        "    while True:\n",
        "        try:\n",
        "            wavelength = float(input(\"Enter the wavelength (in nm): \"))\n",
        "            if wavelength > 0:\n",
        "                break\n",
        "            else:\n",
        "                print(\"Please enter a positive wavelength.\")\n",
        "        except ValueError:\n",
        "            print(\"Invalid input. Please enter a number.\")\n",
        "\n",
        "    color = get_color(wavelength)\n",
        "    print(f\"The color corresponding to the wavelength {wavelength} nm is {color}.\")\n",
        "\n",
        "if __name__ == \"__main__\":\n",
        "    main()\n",
        "\n"
      ],
      "metadata": {
        "colab": {
          "base_uri": "https://localhost:8080/"
        },
        "id": "7MaQlp4137yz",
        "outputId": "e9a98681-9dd4-4746-c7af-3cf91de93b96"
      },
      "execution_count": null,
      "outputs": [
        {
          "output_type": "stream",
          "name": "stdout",
          "text": [
            "Enter the wavelength (in nm): 456\n",
            "The color corresponding to the wavelength 456.0 nm is Indigo.\n"
          ]
        }
      ]
    },
    {
      "cell_type": "code",
      "source": [
        "\"\"\"1.14.Consi+er the gravitational interactions between the Earth, Moon, an+ Sun in our solar system.\n",
        "Given:\n",
        "mass_earth = 5A972e24 # Mass of Earth in kilograms\n",
        "mass_moon = 7A347 7309e22 # Mass of Moon in kilograms\n",
        "mass_sun = 1A989e30 # Mass of Sun in kilograms\n",
        "distance_earth_sun = 1A49 e11 # Average distance between Earth and Sun in meters\n",
        "distance_moon_earth = 3A844e8 # Average distance between Moon and Earth in meters\n",
        "Tasks\n",
        "* Calculate the gravitational force between the Earth and the Sun@\n",
        "* Calculate the gravitational force between the Moon and the Earth@\n",
        "* Compare the calculated forces to determine which gravitational force is stronger@\n",
        "* Explain which celestial body (Earth or Moon) is more attracted to the other based on the comparison.\"\"\"\n",
        "\n",
        "def calculate_gravitational_force(m1, m2, distance):\n",
        "    G = 6.67430e-11  # Gravitational constant in m^3 kg^-1 s^-2\n",
        "    force = G * m1 * m2 / distance**2\n",
        "    return force\n",
        "\n",
        "def main():\n",
        "    # Given data\n",
        "    mass_earth = 5.972e24  # kg\n",
        "    mass_moon = 7.3477309e22  # kg\n",
        "    mass_sun = 1.989e30  # kg\n",
        "    distance_earth_sun = 1.49e11  # m\n",
        "    distance_moon_earth = 3.844e8  # m\n",
        "\n",
        "    # Calculate gravitational forces\n",
        "    force_earth_sun = calculate_gravitational_force(mass_earth, mass_sun, distance_earth_sun)\n",
        "    force_moon_earth = calculate_gravitational_force(mass_moon, mass_earth, distance_moon_earth)\n",
        "\n",
        "    # Compare forces\n",
        "    stronger_force = \"Earth-Sun\" if force_earth_sun > force_moon_earth else \"Moon-Earth\"\n",
        "\n",
        "    # Display results\n",
        "    print(f\"Gravitational force between Earth and Sun: {force_earth_sun:.2e} N\")\n",
        "    print(f\"Gravitational force between Moon and Earth: {force_moon_earth:.2e} N\")\n",
        "    print(f\"The stronger gravitational force is: {stronger_force}\")\n",
        "\n",
        "    # Explain attraction\n",
        "    if force_earth_sun > force_moon_earth:\n",
        "        print(\"The Earth is more strongly attracted to the Sun than the Moon is to the Earth.\")\n",
        "    else:\n",
        "        print(\"The Moon is more strongly attracted to the Earth than the Earth is to the Sun.\")\n",
        "\n",
        "if __name__ == \"__main__\":\n",
        "    main()\n"
      ],
      "metadata": {
        "colab": {
          "base_uri": "https://localhost:8080/"
        },
        "id": "62ORalEu4kg7",
        "outputId": "3a3e2cc0-ae43-4354-e681-9bfed2e6f077"
      },
      "execution_count": null,
      "outputs": [
        {
          "output_type": "stream",
          "name": "stdout",
          "text": [
            "Gravitational force between Earth and Sun: 3.57e+22 N\n",
            "Gravitational force between Moon and Earth: 1.98e+20 N\n",
            "The stronger gravitational force is: Earth-Sun\n",
            "The Earth is more strongly attracted to the Sun than the Moon is to the Earth.\n"
          ]
        }
      ]
    },
    {
      "cell_type": "code",
      "source": [
        "\"\"\"2. Design and implement a Python program for managing student information using object-oriented principles. Create a class called 'Student with encapsulated attributes for name, age, and roll number. Implement getter and setter methods for these attributes. Additionally, provide methods to display student information and update student details.\n",
        "Tasks:\n",
        "Define the 'Student class with encapsulated attributes.\n",
        "Implement getter and setter methods for the attributes.\n",
        "Write methods to display student information and update details.\n",
        "Create instances of the 'Student class and test the implemented functionality.\"\"\"\n",
        "\n",
        "\n",
        "class Student:\n",
        "    def __init__(self, name, age, roll_number):\n",
        "        self.__name = name\n",
        "        self.__age = age\n",
        "        self.__roll_number = roll_number\n",
        "\n",
        "    # Getter methods\n",
        "    def get_name(self):\n",
        "        return self.__name\n",
        "\n",
        "    def get_age(self):\n",
        "        return self.__age\n",
        "\n",
        "    def get_roll_number(self):\n",
        "        return self.__roll_number\n",
        "\n",
        "    # Setter methods\n",
        "    def set_name(self, name):\n",
        "        self.__name = name\n",
        "\n",
        "    def set_age(self, age):\n",
        "        self.__age = age\n",
        "\n",
        "    def set_roll_number(self, roll_number):\n",
        "        self.__roll_number = roll_number\n",
        "\n",
        "    # Method to display student information\n",
        "    def display_info(self):\n",
        "        print(f\"Name: {self.__name}\")\n",
        "        print(f\"Age: {self.__age}\")\n",
        "        print(f\"Roll Number: {self.__roll_number}\")\n",
        "\n",
        "    # Method to update student details\n",
        "    def update_details(self, name=None, age=None, roll_number=None):\n",
        "        if name is not None:\n",
        "            self.__name = name\n",
        "        if age is not None:\n",
        "            self.__age = age\n",
        "        if roll_number is not None:\n",
        "            self.__roll_number = roll_number\n",
        "\n",
        "# Creating instances and testing functionality\n",
        "student1 = Student(\"John Doe\", 20, \"S12345\")\n",
        "student1.display_info()\n",
        "\n",
        "# Updating details\n",
        "student1.update_details(name=\"Jane Doe\", age=21)\n",
        "student1.display_info()\n"
      ],
      "metadata": {
        "colab": {
          "base_uri": "https://localhost:8080/"
        },
        "id": "Qwz_B96_7ljM",
        "outputId": "38e4d57d-a586-4aef-e8b4-7c15a985f8a7"
      },
      "execution_count": null,
      "outputs": [
        {
          "output_type": "stream",
          "name": "stdout",
          "text": [
            "Name: John Doe\n",
            "Age: 20\n",
            "Roll Number: S12345\n",
            "Name: Jane Doe\n",
            "Age: 21\n",
            "Roll Number: S12345\n"
          ]
        }
      ]
    },
    {
      "cell_type": "code",
      "source": [
        "\"\"\"3.Develop a Python program for managing library resources efficiently. Design a class named 'LibraryBook with attributes like book name, author, and availability status. Implement methods for borrowing and returning books while ensuring proper encapsulation of attributes.\n",
        "Tasks:\n",
        "1. Create the LibraryBook' class with encapsulated attributes.\n",
        "2. Implement methods for borrowing and returning books.\n",
        "3. Ensure proper encapsulation to protect book details.\n",
        "4. Test the borrowing and returning functionality with sample data.\"\"\"\n",
        "\n",
        "\n",
        "class LibraryBook:\n",
        "    def __init__(self, book_name, author):\n",
        "        self.__book_name = book_name\n",
        "        self.__author = author\n",
        "        self.__is_available = True\n",
        "\n",
        "    # Getter methods\n",
        "    def get_book_name(self):\n",
        "        return self.__book_name\n",
        "\n",
        "    def get_author(self):\n",
        "        return self.__author\n",
        "\n",
        "    def is_available(self):\n",
        "        return self.__is_available\n",
        "\n",
        "    # Methods for borrowing and returning books\n",
        "    def borrow_book(self):\n",
        "        if self.__is_available:\n",
        "            self.__is_available = False\n",
        "            return True\n",
        "        else:\n",
        "            return False\n",
        "\n",
        "    def return_book(self):\n",
        "        self.__is_available = True\n",
        "\n",
        "# Testing the LibraryBook class\n",
        "book1 = LibraryBook(\"1984\", \"George Orwell\")\n",
        "print(f\"Book Name: {book1.get_book_name()}\")\n",
        "print(f\"Author: {book1.get_author()}\")\n",
        "print(f\"Is Available: {book1.is_available()}\")\n",
        "\n",
        "# Borrowing the book\n",
        "if book1.borrow_book():\n",
        "    print(\"Book borrowed successfully.\")\n",
        "else:\n",
        "    print(\"Book is not available.\")\n",
        "\n",
        "# Returning the book\n",
        "book1.return_book()\n",
        "print(\"Book returned successfully.\")\n"
      ],
      "metadata": {
        "colab": {
          "base_uri": "https://localhost:8080/"
        },
        "id": "P1L7Sf9N9RW8",
        "outputId": "d607a9b5-a574-4803-e41f-5662317215a4"
      },
      "execution_count": null,
      "outputs": [
        {
          "output_type": "stream",
          "name": "stdout",
          "text": [
            "Book Name: 1984\n",
            "Author: George Orwell\n",
            "Is Available: True\n",
            "Book borrowed successfully.\n",
            "Book returned successfully.\n"
          ]
        }
      ]
    },
    {
      "cell_type": "code",
      "source": [
        "\"\"\"4.Create a simple banking system using object-oriented concepts in Python. Design classes representing different types of bank accounts such as savings and checking. Implement methods for deposit, withdraw, and balance inquiry. Utilize inheritance to manage different account types efficiently.\n",
        "Tasks:\n",
        "1. Define base class(es) for bank accounts with common attributes and methods.\n",
        "2. Implement subclasses for specific account types (e.g., SavingsAccount, CheckingAccount).\n",
        "3. Provide methods for deposit, withdraw, and balance inquiry in each subclass.\n",
        "4. Test the banking system by creating instances of different account types and performing transactions.\"\"\"\n",
        "\n",
        "# Base class for bank accounts\n",
        "class BankAccount:\n",
        "    def __init__(self, account_number, balance=0):\n",
        "        self.account_number = account_number\n",
        "        self.balance = balance\n",
        "\n",
        "    def deposit(self, amount):\n",
        "        if amount > 0:\n",
        "            self.balance += amount\n",
        "            print(f\"Deposited {amount}. New balance: {self.balance}\")\n",
        "            return True\n",
        "        return False\n",
        "\n",
        "    def withdraw(self, amount):\n",
        "        if 0 < amount <= self.balance:\n",
        "            self.balance -= amount\n",
        "            print(f\"Withdrew {amount}. New balance: {self.balance}\")\n",
        "            return True\n",
        "        return False\n",
        "\n",
        "    def get_balance(self):\n",
        "        print(f\"Balance: {self.balance}\")\n",
        "        return self.balance\n",
        "\n",
        "# Subclass for savings accounts\n",
        "class SavingsAccount(BankAccount):\n",
        "    pass\n",
        "\n",
        "# Subclass for checking accounts\n",
        "class CheckingAccount(BankAccount):\n",
        "    pass\n",
        "\n",
        "# Testing the banking system\n",
        "savings = SavingsAccount(\"S123456\", 1000)\n",
        "checking = CheckingAccount(\"C123456\", 500)\n",
        "\n",
        "# Performing transactions\n",
        "savings.deposit(500)\n",
        "savings.withdraw(200)\n",
        "savings.get_balance()\n",
        "\n",
        "checking.deposit(300)\n",
        "checking.withdraw(100)\n",
        "checking.get_balance()\n"
      ],
      "metadata": {
        "colab": {
          "base_uri": "https://localhost:8080/"
        },
        "id": "GPSyO8Km9aYl",
        "outputId": "c7e3b38c-c08b-444e-d9a9-3c37373fcba3"
      },
      "execution_count": null,
      "outputs": [
        {
          "output_type": "stream",
          "name": "stdout",
          "text": [
            "Deposited 500. New balance: 1500\n",
            "Withdrew 200. New balance: 1300\n",
            "Balance: 1300\n",
            "Deposited 300. New balance: 800\n",
            "Withdrew 100. New balance: 700\n",
            "Balance: 700\n"
          ]
        },
        {
          "output_type": "execute_result",
          "data": {
            "text/plain": [
              "700"
            ]
          },
          "metadata": {},
          "execution_count": 7
        }
      ]
    },
    {
      "cell_type": "code",
      "source": [
        "\"\"\"5. Write a Python program that models different animals and their sounds. Design a base class called Animal with a method make_sound(). Create subclasses like 'Dog and Cat that override the make_sound() method to produce appropriate sounds.\n",
        "Tasks:\n",
        "1. Define the 'Animal' class with a method make_sound().\n",
        "2. Create subclasses Dog and Cat that override the make_sound() method.\n",
        "3. Implement the sound generation logic for each subclass.\n",
        "4. Test the program by creating instances of 'Dog' and 'Cat and calling the 'make_sound() method\"\"\"\n",
        "\n",
        "\n",
        "\n",
        "# Base class for animals\n",
        "class Animal:\n",
        "    def make_sound(self):\n",
        "        raise NotImplementedError(\"Subclass must implement abstract method\")\n",
        "\n",
        "# Subclass for dogs\n",
        "class Dog(Animal):\n",
        "    def make_sound(self):\n",
        "        return \"Woof!\"\n",
        "\n",
        "# Subclass for cats\n",
        "class Cat(Animal):\n",
        "    def make_sound(self):\n",
        "        return \"Meow!\"\n",
        "\n",
        "# Testing the program\n",
        "dog = Dog()\n",
        "cat = Cat()\n",
        "\n",
        "print(f\"Dog sound: {dog.make_sound()}\")\n",
        "print(f\"Cat sound: {cat.make_sound()}\")\n"
      ],
      "metadata": {
        "colab": {
          "base_uri": "https://localhost:8080/"
        },
        "id": "hrNG7UAR-EH2",
        "outputId": "f3559526-3b9a-438d-f301-ad399aecf907"
      },
      "execution_count": null,
      "outputs": [
        {
          "output_type": "stream",
          "name": "stdout",
          "text": [
            "Dog sound: Woof!\n",
            "Cat sound: Meow!\n"
          ]
        }
      ]
    },
    {
      "cell_type": "code",
      "source": [
        "\"\"\"6.Write a code for Restaurant Management System Using OOPS:\n",
        "• Create a Menultem class that has attributes such as name, description, price, and category.\n",
        "Implement methods to add a new menu item, update menu item information, and remove a menu item from the menu.\n",
        "• Use encapsulation to hide the menu item's unique identification number.\n",
        "• Inherit from the Menultem class to create a Fooditem class and a Beverageltem class, each with their own specific attributes and methods.\"\"\"\n",
        "\n",
        "\n",
        "class MenuItem:\n",
        "    def __init__(self, name, description, price, category):\n",
        "        self.__id = id(self)\n",
        "        self.name = name\n",
        "        self.description = description\n",
        "        self.price = price\n",
        "        self.category = category\n",
        "\n",
        "    def get_id(self):\n",
        "        return self.__id\n",
        "\n",
        "    def update_info(self, name=None, description=None, price=None, category=None):\n",
        "        if name:\n",
        "            self.name = name\n",
        "        if description:\n",
        "            self.description = description\n",
        "        if price:\n",
        "            self.price = price\n",
        "        if category:\n",
        "            self.category = category\n",
        "\n",
        "    def __str__(self):\n",
        "        return f\"ID: {self.__id}, Name: {self.name}, Description: {self.description}, Price: {self.price}, Category: {self.category}\"\n",
        "\n",
        "class FoodItem(MenuItem):\n",
        "    def __init__(self, name, description, price, category, cuisine):\n",
        "        super().__init__(name, description, price, category)\n",
        "        self.cuisine = cuisine\n",
        "\n",
        "    def __str__(self):\n",
        "        return super().__str__() + f\", Cuisine: {self.cuisine}\"\n",
        "\n",
        "class BeverageItem(MenuItem):\n",
        "    def __init__(self, name, description, price, category, size):\n",
        "        super().__init__(name, description, price, category)\n",
        "        self.size = size\n",
        "\n",
        "    def __str__(self):\n",
        "        return super().__str__() + f\", Size: {self.size}\"\n",
        "\n",
        "# Example usage\n",
        "menu = []\n",
        "\n",
        "# Adding items to the menu\n",
        "item1 = FoodItem(\"Pasta\", \"Delicious Italian pasta.\", 12.99, \"Main Course\", \"Italian\")\n",
        "item2 = BeverageItem(\"Coffee\", \"Freshly brewed coffee.\", 2.99, \"Beverage\", \"Medium\")\n",
        "\n",
        "menu.append(item1)\n",
        "menu.append(item2)\n",
        "\n",
        "# Displaying menu items\n",
        "for item in menu:\n",
        "    print(item)\n",
        "\n",
        "# Updating an item\n",
        "item1.update_info(price=13.99, description=\"Delicious homemade Italian pasta.\")\n",
        "print(\"\\nUpdated Menu Item:\")\n",
        "print(item1)\n",
        "\n",
        "# Removing an item\n",
        "menu.remove(item1)\n",
        "print(\"\\nMenu after removing an item:\")\n",
        "for item in menu:\n",
        "    print(item)\n"
      ],
      "metadata": {
        "colab": {
          "base_uri": "https://localhost:8080/"
        },
        "id": "vay9jiiN-PXY",
        "outputId": "e5fa1177-025a-4156-9fb5-1ec0f27dda5f"
      },
      "execution_count": null,
      "outputs": [
        {
          "output_type": "stream",
          "name": "stdout",
          "text": [
            "ID: 133820228924128, Name: Pasta, Description: Delicious Italian pasta., Price: 12.99, Category: Main Course, Cuisine: Italian\n",
            "ID: 133820228920240, Name: Coffee, Description: Freshly brewed coffee., Price: 2.99, Category: Beverage, Size: Medium\n",
            "\n",
            "Updated Menu Item:\n",
            "ID: 133820228924128, Name: Pasta, Description: Delicious homemade Italian pasta., Price: 13.99, Category: Main Course, Cuisine: Italian\n",
            "\n",
            "Menu after removing an item:\n",
            "ID: 133820228920240, Name: Coffee, Description: Freshly brewed coffee., Price: 2.99, Category: Beverage, Size: Medium\n"
          ]
        }
      ]
    },
    {
      "cell_type": "code",
      "source": [
        "\"\"\"7.Write a code for Hotel Management System using OOPS:\n",
        "• Create a Room class that has attributes such as room number, room type, rate, and availability (private).\n",
        "• Implement methods to book a room, check in a guest, and check out a guest.\n",
        "• Use encapsulation to hide the room's unique identification number.\n",
        "• Inherit from the Room class to create a SuiteRoom class and a StandardRoom class, each with their own specific attributes and methods.\"\"\"\n",
        "\n",
        "\n",
        "class Room:\n",
        "    def __init__(self, room_number, room_type, rate):\n",
        "        self.__id = id(self)\n",
        "        self.room_number = room_number\n",
        "        self.room_type = room_type\n",
        "        self.rate = rate\n",
        "        self.__available = True\n",
        "\n",
        "    def get_id(self):\n",
        "        return self.__id\n",
        "\n",
        "    def book_room(self):\n",
        "        if self.__available:\n",
        "            self.__available = False\n",
        "            return True\n",
        "        return False\n",
        "\n",
        "    def check_in(self):\n",
        "        if not self.__available:\n",
        "            print(f\"Guest checked in to room {self.room_number}.\")\n",
        "        else:\n",
        "            print(f\"Room {self.room_number} is not booked yet.\")\n",
        "\n",
        "    def check_out(self):\n",
        "        if not self.__available:\n",
        "            self.__available = True\n",
        "            print(f\"Guest checked out from room {self.room_number}.\")\n",
        "        else:\n",
        "            print(f\"Room {self.room_number} is already available.\")\n",
        "\n",
        "    def __str__(self):\n",
        "        return f\"Room Number: {self.room_number}, Type: {self.room_type}, Rate: {self.rate}, Available: {self.__available}\"\n",
        "\n",
        "class SuiteRoom(Room):\n",
        "    def __init__(self, room_number, rate, amenities):\n",
        "        super().__init__(room_number, \"Suite\", rate)\n",
        "        self.amenities = amenities\n",
        "\n",
        "    def __str__(self):\n",
        "        return super().__str__() + f\", Amenities: {self.amenities}\"\n",
        "\n",
        "class StandardRoom(Room):\n",
        "    def __init__(self, room_number, rate, view):\n",
        "        super().__init__(room_number, \"Standard\", rate)\n",
        "        self.view = view\n",
        "\n",
        "    def __str__(self):\n",
        "        return super().__str__() + f\", View: {self.view}\"\n",
        "\n",
        "# Example usage\n",
        "rooms = []\n",
        "\n",
        "# Adding rooms\n",
        "room1 = SuiteRoom(101, 250, [\"WiFi\", \"TV\", \"Mini Bar\"])\n",
        "room2 = StandardRoom(102, 150, \"Garden View\")\n",
        "\n",
        "rooms.append(room1)\n",
        "rooms.append(room2)\n",
        "\n",
        "# Displaying rooms\n",
        "for room in rooms:\n",
        "    print(room)\n",
        "\n",
        "# Booking a room\n",
        "room1.book_room()\n",
        "room1.check_in()\n",
        "room1.check_out()\n",
        "\n",
        "print(\"\\nRoom Status after booking and checking out:\")\n",
        "for room in rooms:\n",
        "    print(room)\n"
      ],
      "metadata": {
        "colab": {
          "base_uri": "https://localhost:8080/"
        },
        "id": "RPe_7a-ZC8WK",
        "outputId": "6d395b5d-8d0c-4a55-d9f7-dc73db885239"
      },
      "execution_count": null,
      "outputs": [
        {
          "output_type": "stream",
          "name": "stdout",
          "text": [
            "Room Number: 101, Type: Suite, Rate: 250, Available: True, Amenities: ['WiFi', 'TV', 'Mini Bar']\n",
            "Room Number: 102, Type: Standard, Rate: 150, Available: True, View: Garden View\n",
            "Guest checked in to room 101.\n",
            "Guest checked out from room 101.\n",
            "\n",
            "Room Status after booking and checking out:\n",
            "Room Number: 101, Type: Suite, Rate: 250, Available: True, Amenities: ['WiFi', 'TV', 'Mini Bar']\n",
            "Room Number: 102, Type: Standard, Rate: 150, Available: True, View: Garden View\n"
          ]
        }
      ]
    },
    {
      "cell_type": "code",
      "source": [
        "\"\"\"8. Write a code for Fitness Club Management System using OOPS:\n",
        "• Create a Member class that has attributes such as name, age, membership type, and membership status (private).\n",
        "• Implement methods to register a new member, renew a membership, and cancel a membership.\n",
        "• Use encapsulation to hide the member's unique identification number.\n",
        "• Inherit from the Member class to create a FamilyMember class and an Individual Member class, each with their own specific attributes and methods.\"\"\"\n",
        "\n",
        "class Member:\n",
        "    def __init__(self, name, age, membership_type):\n",
        "        self.__id = id(self)\n",
        "        self.name = name\n",
        "        self.age = age\n",
        "        self.membership_type = membership_type\n",
        "        self.__status = \"Active\"\n",
        "\n",
        "    def get_id(self):\n",
        "        return self.__id\n",
        "\n",
        "    def renew_membership(self):\n",
        "        self.__status = \"Active\"\n",
        "        print(f\"Membership for {self.name} has been renewed.\")\n",
        "\n",
        "    def cancel_membership(self):\n",
        "        self.__status = \"Cancelled\"\n",
        "        print(f\"Membership for {self.name} has been cancelled.\")\n",
        "\n",
        "    def __str__(self):\n",
        "        return f\"ID: {self.__id}, Name: {self.name}, Age: {self.age}, Membership Type: {self.membership_type}, Status: {self.__status}\"\n",
        "\n",
        "class FamilyMember(Member):\n",
        "    def __init__(self, name, age, membership_type, family_size):\n",
        "        super().__init__(name, age, membership_type)\n",
        "        self.family_size = family_size\n",
        "\n",
        "    def __str__(self):\n",
        "        return super().__str__() + f\", Family Size: {self.family_size}\"\n",
        "\n",
        "class IndividualMember(Member):\n",
        "    def __init__(self, name, age, membership_type, personal_trainer):\n",
        "        super().__init__(name, age, membership_type)\n",
        "        self.personal_trainer = personal_trainer\n",
        "\n",
        "    def __str__(self):\n",
        "        return super().__str__() + f\", Personal Trainer: {self.personal_trainer}\"\n",
        "\n",
        "# Example usage\n",
        "members = []\n",
        "\n",
        "# Adding members\n",
        "member1 = FamilyMember(\"John Doe\", 35, \"Family\", 4)\n",
        "member2 = IndividualMember(\"Jane Smith\", 28, \"Individual\", True)\n",
        "\n",
        "members.append(member1)\n",
        "members.append(member2)\n",
        "\n",
        "# Displaying members\n",
        "for member in members:\n",
        "    print(member)\n",
        "\n",
        "# Renewing and cancelling memberships\n",
        "member1.renew_membership()\n",
        "member2.cancel_membership()\n",
        "\n",
        "print(\"\\nMembership Status after renewal and cancellation:\")\n",
        "for member in members:\n",
        "    print(member)\n"
      ],
      "metadata": {
        "colab": {
          "base_uri": "https://localhost:8080/"
        },
        "id": "bX1Qf-3UDKx6",
        "outputId": "f68cc774-4124-48f5-ac2f-166c8cc24623"
      },
      "execution_count": null,
      "outputs": [
        {
          "output_type": "stream",
          "name": "stdout",
          "text": [
            "ID: 133820228926768, Name: John Doe, Age: 35, Membership Type: Family, Status: Active, Family Size: 4\n",
            "ID: 133820228914288, Name: Jane Smith, Age: 28, Membership Type: Individual, Status: Active, Personal Trainer: True\n",
            "Membership for John Doe has been renewed.\n",
            "Membership for Jane Smith has been cancelled.\n",
            "\n",
            "Membership Status after renewal and cancellation:\n",
            "ID: 133820228926768, Name: John Doe, Age: 35, Membership Type: Family, Status: Active, Family Size: 4\n",
            "ID: 133820228914288, Name: Jane Smith, Age: 28, Membership Type: Individual, Status: Cancelled, Personal Trainer: True\n"
          ]
        }
      ]
    },
    {
      "cell_type": "code",
      "source": [
        "\"\"\"9. Write a code for Event Management System using OOPS:\n",
        "Create an Event class that has attributes such as name, date, time, location, and list of attendees (private).\n",
        "Implement methods to create a new event, add or remove attendees, and get the total number of attendees.\n",
        "Use encapsulation to hide the event's unique identification number.\n",
        "Inherit from the Event class to create a PrivateEvent class and a PublicEvent class, each with their own specific attributes and methods.\"\"\"\n",
        "\n",
        "\n",
        "class Event:\n",
        "    def __init__(self, name, date, time, location):\n",
        "        self.__id = id(self)\n",
        "        self.name = name\n",
        "        self.date = date\n",
        "        self.time = time\n",
        "        self.location = location\n",
        "        self.__attendees = []\n",
        "\n",
        "    def get_id(self):\n",
        "        return self.__id\n",
        "\n",
        "    def add_attendee(self, attendee):\n",
        "        self.__attendees.append(attendee)\n",
        "        print(f\"Added attendee: {attendee}\")\n",
        "\n",
        "    def remove_attendee(self, attendee):\n",
        "        if attendee in self.__attendees:\n",
        "            self.__attendees.remove(attendee)\n",
        "            print(f\"Removed attendee: {attendee}\")\n",
        "        else:\n",
        "            print(f\"Attendee {attendee} not found\")\n",
        "\n",
        "    def get_total_attendees(self):\n",
        "        return len(self.__attendees)\n",
        "\n",
        "    def __str__(self):\n",
        "        return f\"Event ID: {self.__id}, Name: {self.name}, Date: {self.date}, Time: {self.time}, Location: {self.location}, Attendees: {self.__attendees}\"\n",
        "\n",
        "class PrivateEvent(Event):\n",
        "    def __init__(self, name, date, time, location, invitation_required):\n",
        "        super().__init__(name, date, time, location)\n",
        "        self.invitation_required = invitation_required\n",
        "\n",
        "    def __str__(self):\n",
        "        return super().__str__() + f\", Invitation Required: {self.invitation_required}\"\n",
        "\n",
        "class PublicEvent(Event):\n",
        "    def __init__(self, name, date, time, location, max_capacity):\n",
        "        super().__init__(name, date, time, location)\n",
        "        self.max_capacity = max_capacity\n",
        "\n",
        "    def __str__(self):\n",
        "        return super().__str__() + f\", Max Capacity: {self.max_capacity}\"\n",
        "\n",
        "# Example usage\n",
        "event1 = PrivateEvent(\"Birthday Party\", \"2024-08-15\", \"18:00\", \"John's House\", True)\n",
        "event2 = PublicEvent(\"Music Concert\", \"2024-08-20\", \"20:00\", \"City Stadium\", 5000)\n",
        "\n",
        "event1.add_attendee(\"Alice\")\n",
        "event1.add_attendee(\"Bob\")\n",
        "event1.remove_attendee(\"Alice\")\n",
        "\n",
        "print(event1)\n",
        "print(f\"Total attendees: {event1.get_total_attendees()}\")\n",
        "\n",
        "print(event2)\n",
        "\n"
      ],
      "metadata": {
        "colab": {
          "base_uri": "https://localhost:8080/"
        },
        "id": "8kVz4hH8DS7X",
        "outputId": "273bd6b7-c477-4811-b665-9914f891107d"
      },
      "execution_count": 2,
      "outputs": [
        {
          "output_type": "stream",
          "name": "stdout",
          "text": [
            "Added attendee: Alice\n",
            "Added attendee: Bob\n",
            "Removed attendee: Alice\n",
            "Event ID: 136574390964032, Name: Birthday Party, Date: 2024-08-15, Time: 18:00, Location: John's House, Attendees: ['Bob'], Invitation Required: True\n",
            "Total attendees: 1\n",
            "Event ID: 136574390964128, Name: Music Concert, Date: 2024-08-20, Time: 20:00, Location: City Stadium, Attendees: [], Max Capacity: 5000\n"
          ]
        }
      ]
    },
    {
      "cell_type": "code",
      "source": [
        "\"\"\"10. Write a code for Airline Reservation System using OOPS:\n",
        "Create a Flight class that has attributes such as flight number, departure and arrival airports, departure and arrival times, and available seats (private).\n",
        "Implement methods to book a seat, cancel a reservation, and get the remaining available seats.\n",
        "Use encapsulation to hide the flight's unique identification number.\n",
        "Inherit from the Flight class to create a DomesticFlight class and an International Flight class, each with their own specific attributes and methods.\"\"\"\n",
        "\n",
        "\n",
        "class Flight:\n",
        "    def __init__(self, flight_number, departure_airport, arrival_airport, departure_time, arrival_time, available_seats):\n",
        "        self.__id = id(self)\n",
        "        self.flight_number = flight_number\n",
        "        self.departure_airport = departure_airport\n",
        "        self.arrival_airport = arrival_airport\n",
        "        self.departure_time = departure_time\n",
        "        self.arrival_time = arrival_time\n",
        "        self.__available_seats = available_seats\n",
        "\n",
        "    def get_id(self):\n",
        "        return self.__id\n",
        "\n",
        "    def book_seat(self):\n",
        "        if self.__available_seats > 0:\n",
        "            self.__available_seats -= 1\n",
        "            print(f\"Seat booked. Remaining seats: {self.__available_seats}\")\n",
        "            return True\n",
        "        print(\"No seats available\")\n",
        "        return False\n",
        "\n",
        "    def cancel_reservation(self):\n",
        "        self.__available_seats += 1\n",
        "        print(f\"Reservation cancelled. Remaining seats: {self.__available_seats}\")\n",
        "\n",
        "    def get_remaining_seats(self):\n",
        "        return self.__available_seats\n",
        "\n",
        "    def __str__(self):\n",
        "        return (f\"Flight ID: {self.__id}, Flight Number: {self.flight_number}, Departure: {self.departure_airport} at {self.departure_time}, \"\n",
        "                f\"Arrival: {self.arrival_airport} at {self.arrival_time}, Available Seats: {self.__available_seats}\")\n",
        "\n",
        "class DomesticFlight(Flight):\n",
        "    def __init__(self, flight_number, departure_airport, arrival_airport, departure_time, arrival_time, available_seats, in_flight_meal):\n",
        "        super().__init__(flight_number, departure_airport, arrival_airport, departure_time, arrival_time, available_seats)\n",
        "        self.in_flight_meal = in_flight_meal\n",
        "\n",
        "    def __str__(self):\n",
        "        return super().__str__() + f\", In-flight Meal: {self.in_flight_meal}\"\n",
        "\n",
        "class InternationalFlight(Flight):\n",
        "    def __init__(self, flight_number, departure_airport, arrival_airport, departure_time, arrival_time, available_seats, passport_required):\n",
        "        super().__init__(flight_number, departure_airport, arrival_airport, departure_time, arrival_time, available_seats)\n",
        "        self.passport_required = passport_required\n",
        "\n",
        "    def __str__(self):\n",
        "        return super().__str__() + f\", Passport Required: {self.passport_required}\"\n",
        "\n",
        "# Example usage\n",
        "flight1 = DomesticFlight(\"AA123\", \"JFK\", \"LAX\", \"2024-08-15 08:00\", \"2024-08-15 11:00\", 150, True)\n",
        "flight2 = InternationalFlight(\"BA456\", \"LHR\", \"JFK\", \"2024-08-20 12:00\", \"2024-08-20 15:00\", 200, True)\n",
        "\n",
        "flight1.book_seat()\n",
        "flight1.book_seat()\n",
        "flight1.cancel_reservation()\n",
        "\n",
        "print(flight1)\n",
        "print(f\"Remaining seats: {flight1.get_remaining_seats()}\")\n",
        "\n",
        "print(flight2)\n"
      ],
      "metadata": {
        "colab": {
          "base_uri": "https://localhost:8080/"
        },
        "id": "v8tsSFfhD5Qa",
        "outputId": "2d80a5fc-2adb-4108-845f-ddfc12ae7eca"
      },
      "execution_count": null,
      "outputs": [
        {
          "output_type": "stream",
          "name": "stdout",
          "text": [
            "Seat booked. Remaining seats: 149\n",
            "Seat booked. Remaining seats: 148\n",
            "Reservation cancelled. Remaining seats: 149\n",
            "Flight ID: 133820228914768, Flight Number: AA123, Departure: JFK at 2024-08-15 08:00, Arrival: LAX at 2024-08-15 11:00, Available Seats: 149, In-flight Meal: True\n",
            "Remaining seats: 149\n",
            "Flight ID: 133820228925232, Flight Number: BA456, Departure: LHR at 2024-08-20 12:00, Arrival: JFK at 2024-08-20 15:00, Available Seats: 200, Passport Required: True\n"
          ]
        }
      ]
    },
    {
      "cell_type": "code",
      "source": [
        "#11. Define a Python module named constants.py containing constants like pi and the speed of light.\n",
        "\n",
        "# constants.py\n",
        "\n",
        "pi = 3.141592653589793\n",
        "speed_of_light = 299792458  # in meters per second\n",
        "\n"
      ],
      "metadata": {
        "id": "Hq4-a888ERjt"
      },
      "execution_count": null,
      "outputs": []
    },
    {
      "cell_type": "code",
      "source": [
        "#12. Write a Python module named calculator.py containing functions for addition, subtraction, multiplication, and division.\n",
        "\n",
        "\n",
        "# calculator.py\n",
        "\n",
        "def add(a, b):\n",
        "    return a + b\n",
        "\n",
        "def subtract(a, b):\n",
        "    return a - b\n",
        "\n",
        "def multiply(a, b):\n",
        "    return a * b\n",
        "\n",
        "def divide(a, b):\n",
        "    if b != 0:\n",
        "        return a / b\n",
        "    else:\n",
        "        return \"Error: Division by zero\"\n"
      ],
      "metadata": {
        "id": "kIU0N9opGBaC"
      },
      "execution_count": null,
      "outputs": []
    },
    {
      "cell_type": "code",
      "source": [
        "#13. Implement a Python package structure for a project named ecommerce, containing modules for product management and order processing.\n",
        "\n",
        "\n",
        "ecommerce/\n",
        "    __init__.py\n",
        "    product_management.py\n",
        "    order_processing.py\n",
        "\n",
        "\n",
        "# ecommerce/__init__.py\n",
        "\n",
        "from .product_management import add_product, remove_product, list_products\n",
        "from .order_processing import create_order, cancel_order, list_orders\n",
        "\n",
        "\n",
        "# ecommerce/product_management.py\n",
        "\n",
        "products = []\n",
        "\n",
        "def add_product(product_name, price):\n",
        "    products.append({'name': product_name, 'price': price})\n",
        "\n",
        "def remove_product(product_name):\n",
        "    global products\n",
        "    products = [product for product in products if product['name'] != product_name]\n",
        "\n",
        "def list_products():\n",
        "    return products\n",
        "\n",
        "\n",
        "\n",
        "# ecommerce/order_processing.py\n",
        "\n",
        "orders = []\n",
        "\n",
        "def create_order(order_id, product_name):\n",
        "    orders.append({'order_id': order_id, 'product_name': product_name})\n",
        "\n",
        "def cancel_order(order_id):\n",
        "    global orders\n",
        "    orders = [order for order in orders if order['order_id'] != order_id]\n",
        "\n",
        "def list_orders():\n",
        "    return orders\n"
      ],
      "metadata": {
        "id": "BvN59Y7lGBc6"
      },
      "execution_count": null,
      "outputs": []
    },
    {
      "cell_type": "code",
      "source": [
        "#14. Implement a Python module named string_utils.py containing functions for string manipulation, such as reversing and capitalizing strings.\n",
        "\n",
        "\n",
        "# string_utils.py\n",
        "\n",
        "def reverse_string(s):\n",
        "    return s[::-1]\n",
        "\n",
        "def capitalize_string(s):\n",
        "    return s.capitalize()\n"
      ],
      "metadata": {
        "id": "Ef6N0CyLGBgc"
      },
      "execution_count": null,
      "outputs": []
    },
    {
      "cell_type": "code",
      "source": [
        "#15. Write a Python module named file_operations.py with functions for reading, writing, and appending data to a file.\n",
        "\n",
        "\n",
        "\n",
        "# file_operations.py\n",
        "\n",
        "def write_to_file(filename, data):\n",
        "    with open(filename, 'w') as file:\n",
        "        file.write(data)\n",
        "\n",
        "def read_from_file(filename):\n",
        "    with open(filename, 'r') as file:\n",
        "        return file.read()\n",
        "\n",
        "def append_to_file(filename, data):\n",
        "    with open(filename, 'a') as file:\n",
        "        file.write(data)\n"
      ],
      "metadata": {
        "id": "6WYbFvyVGBkd"
      },
      "execution_count": null,
      "outputs": []
    },
    {
      "cell_type": "code",
      "source": [
        "#16. Write a Python program to create a text file named \"employees.txt\" and write the details of employees, including their name, age, and salary, into the file.\n",
        "\n",
        "\n",
        "# employees.py\n",
        "\n",
        "def write_employee_details(filename, employees):\n",
        "    with open(filename, 'w') as file:\n",
        "        for employee in employees:\n",
        "            file.write(f\"Name: {employee['name']}, Age: {employee['age']}, Salary: {employee['salary']}\\n\")\n",
        "\n",
        "employees = [\n",
        "    {'name': 'John Doe', 'age': 30, 'salary': 50000},\n",
        "    {'name': 'Jane Smith', 'age': 25, 'salary': 60000},\n",
        "    {'name': 'Emily Davis', 'age': 35, 'salary': 70000}\n",
        "]\n",
        "\n",
        "write_employee_details(\"employees.txt\", employees)\n",
        "\n"
      ],
      "metadata": {
        "id": "Unxtt-LmGBmu"
      },
      "execution_count": null,
      "outputs": []
    },
    {
      "cell_type": "code",
      "source": [
        "#17. Develop a Python script that opens an existing text file named \"inventory.txt\" in read mode and displays the contents of the file line by line.\n",
        "\n",
        "\n",
        "# read_inventory.py\n",
        "\n",
        "def read_inventory(filename):\n",
        "    with open(filename, 'r') as file:\n",
        "        for line in file:\n",
        "            print(line.strip())\n",
        "\n",
        "read_inventory(\"inventory.txt\")\n"
      ],
      "metadata": {
        "id": "oXJWkahOGVGV"
      },
      "execution_count": null,
      "outputs": []
    },
    {
      "cell_type": "code",
      "source": [
        "#18. Create a Python script that reads a text file named \"expenses.txt\" and calculates the total amount spent on various expenses liste\n",
        "\n",
        "\n",
        "\n",
        "# calculate_expenses.py\n",
        "\n",
        "def calculate_total_expenses(filename):\n",
        "    total = 0\n",
        "    with open(filename, 'r') as file:\n",
        "        for line in file:\n",
        "            amount = float(line.strip())\n",
        "            total += amount\n",
        "    return total\n",
        "\n",
        "total_expenses = calculate_total_expenses(\"expenses.txt\")\n",
        "print(f\"Total expenses: {total_expenses}\")\n"
      ],
      "metadata": {
        "id": "-lNpXTTMGVJL"
      },
      "execution_count": null,
      "outputs": []
    },
    {
      "cell_type": "code",
      "source": [
        "#19. Create a Python program that reads a text file named \"paragraph.txt\" and counts the occurrences of each word in the paragraph, displaying the results in alphabetical order\n",
        "\n",
        "\n",
        "# word_count.py\n",
        "\n",
        "from collections import Counter\n",
        "\n",
        "def count_words(filename):\n",
        "    with open(filename, 'r') as file:\n",
        "        text = file.read().lower()\n",
        "        words = text.split()\n",
        "        word_counts = Counter(words)\n",
        "\n",
        "        for word in sorted(word_counts):\n",
        "            print(f\"{word}: {word_counts[word]}\")\n",
        "\n",
        "count_words(\"paragraph.txt\")\n"
      ],
      "metadata": {
        "id": "JRX7cBRJGVL1"
      },
      "execution_count": null,
      "outputs": []
    },
    {
      "cell_type": "code",
      "source": [
        "#21. What do you mean by skewness.Explain its types. Use graph to show.\n",
        "\n",
        "\n",
        "import matplotlib.pyplot as plt\n",
        "import numpy as np\n",
        "from scipy.stats import skewnorm\n",
        "\n",
        "# Generate data\n",
        "data_positive = skewnorm.rvs(a=10, size=1000)\n",
        "data_negative = skewnorm.rvs(a=-10, size=1000)\n",
        "data_symmetric = skewnorm.rvs(a=0, size=1000)\n",
        "\n",
        "# Plot data\n",
        "fig, axes = plt.subplots(1, 3, figsize=(15, 5))\n",
        "\n",
        "axes[0].hist(data_positive, bins=30, color='blue', alpha=0.7)\n",
        "axes[0].set_title('Positive Skew')\n",
        "\n",
        "axes[1].hist(data_negative, bins=30, color='green', alpha=0.7)\n",
        "axes[1].set_title('Negative Skew')\n",
        "\n",
        "axes[2].hist(data_symmetric, bins=30, color='red', alpha=0.7)\n",
        "axes[2].set_title('Zero Skew (Symmetric)')\n",
        "\n",
        "plt.show()\n"
      ],
      "metadata": {
        "colab": {
          "base_uri": "https://localhost:8080/",
          "height": 448
        },
        "id": "Ngpdgh8jGVRV",
        "outputId": "8a6f5c46-6b09-4b4a-8a7b-c8f88857d3e7"
      },
      "execution_count": null,
      "outputs": [
        {
          "output_type": "display_data",
          "data": {
            "text/plain": [
              "<Figure size 1500x500 with 3 Axes>"
            ],
            "image/png": "[encoded data removed]"
          },
          "metadata": {}
        }
      ]
    },
    {
      "cell_type": "code",
      "source": [
        "\"\"\"24. Calculate coefficient of correlation between the marks obtained by 10 students in Accountancy and statistics:\n",
        "Student\n",
        "1\n",
        "2\n",
        "3\n",
        "4\n",
        "5\n",
        "6\n",
        "7\n",
        "9\n",
        "10\n",
        "Accountancy\n",
        "45\n",
        "70\n",
        "65\n",
        "30\n",
        "90\n",
        "40\n",
        "50\n",
        "75\n",
        "85\n",
        "60\n",
        "Statistics\n",
        "35\n",
        "90\n",
        "70\n",
        "40\n",
        "95\n",
        "40\n",
        "60\n",
        "8\n",
        "80\n",
        "80\n",
        "50\n",
        "Use Karl Pearson's Coefficient of Correlation Method to find it.\"\"\"\n",
        "\n",
        "\n",
        "\n",
        "import numpy as np\n",
        "\n",
        "# Data\n",
        "accountancy = [45, 70, 65, 30, 90, 40, 50, 75, 85, 60]\n",
        "statistics = [35, 90, 70, 40, 95, 40, 60, 85, 80, 50]\n",
        "\n",
        "# Calculate Pearson's correlation coefficient\n",
        "correlation_coefficient = np.corrcoef(accountancy, statistics)[0, 1]\n",
        "\n",
        "correlation_coefficient\n"
      ],
      "metadata": {
        "colab": {
          "base_uri": "https://localhost:8080/"
        },
        "id": "bFtaRdSAGVU4",
        "outputId": "9c89ffc1-0191-4d4a-8323-0c4ee6529fe1"
      },
      "execution_count": null,
      "outputs": [
        {
          "output_type": "execute_result",
          "data": {
            "text/plain": [
              "0.9024345176646746"
            ]
          },
          "metadata": {},
          "execution_count": 25
        }
      ]
    },
    {
      "cell_type": "code",
      "source": [
        "\"\"\"38.Anova Test:\n",
        "To study the performance of three detergents and three different water temperatures the following whiteness readings were obtained with specially designed equipment.\n",
        "Water temp\n",
        "Detergents A\n",
        "Detergents B\n",
        "Detergents C\n",
        "Cold Water\n",
        "57\n",
        "55\n",
        "67\n",
        "Worm Water\n",
        "49\n",
        "52\n",
        "68\n",
        "Hot Water\n",
        "54\n",
        "46\n",
        "58\"\"\"\n",
        "\n",
        "\n",
        "\n",
        "\"\"\"\n",
        "38. ANOVA Test\n",
        "To study the performance of three detergents and three different water temperatures, the following whiteness readings were obtained:\n",
        "\n",
        "Water Temperature\tDetergent A\tDetergent B\tDetergent C\n",
        "Cold Water\t57\t55\t67\n",
        "Warm Water\t49\t52\t68\n",
        "Hot Water\t54\t46\t58\n",
        "The ANOVA (Analysis of Variance) test can be used to determine if there are any statistically significant differences between the means of these groups. Here, we need to perform a two-way ANOVA without replication since we have only one observation per cell.\"\"\"\n",
        "\n",
        "import pandas as pd\n",
        "import scipy.stats as stats\n",
        "\n",
        "# Data\n",
        "data = {'Cold': [57, 55, 67],\n",
        "        'Warm': [49, 52, 68],\n",
        "        'Hot': [54, 46, 58]}\n",
        "df = pd.DataFrame(data, index=['Detergent A', 'Detergent B', 'Detergent C'])\n",
        "\n",
        "# Perform the ANOVA\n",
        "f_val, p_val = stats.f_oneway(df['Cold'], df['Warm'], df['Hot'])\n",
        "\n",
        "print(f\"F-value: {f_val}\")\n",
        "print(f\"P-value: {p_val}\")\n",
        "\n",
        "\n",
        "\n",
        "\n",
        "\n"
      ],
      "metadata": {
        "id": "M_-7oTuiR184",
        "colab": {
          "base_uri": "https://localhost:8080/",
          "height": 139
        },
        "outputId": "79b91f0c-5ffa-4734-f3c2-81b5a6f5b612"
      },
      "execution_count": null,
      "outputs": [
        {
          "output_type": "stream",
          "name": "stdout",
          "text": [
            "F-value: 0.6029143897996357\n",
            "P-value: 0.5773005027709032\n"
          ]
        },
        {
          "output_type": "execute_result",
          "data": {
            "text/plain": [
              "'Interpreting the results:\\n\\nIf the p-value is less than the significance level (e.g., 0.05), we reject the null hypothesis and conclude that there are significant differences between the means of at least one pair of groups.\\nIf the p-value is greater than the significance level, we fail to reject the null hypothesis and conclude that there is no significant difference between the means.'"
            ],
            "application/vnd.google.colaboratory.intrinsic+json": {
              "type": "string"
            }
          },
          "metadata": {},
          "execution_count": 1
        }
      ]
    },
    {
      "cell_type": "code",
      "source": [
        "#39.How would you create a basic Flask route that displays \"Hello, World!\" on the homepage?\n",
        "\n",
        "\n",
        "\n",
        "#Install Flask if you haven't already:\n",
        "!pip install Flask\n",
        "\n",
        "\n",
        "#Create a file named app.py and add the following code:\n",
        "\n",
        "from flask import Flask\n",
        "\n",
        "app = Flask(__name__)\n",
        "\n",
        "@app.route('/')\n",
        "def hello_world():\n",
        "    return \"Hello, World!\"\n",
        "\n",
        "if __name__ == '__main__':\n",
        "    app.run(debug=True)\n",
        "#Run the Flask application\n",
        "!python app.py\n",
        "\n",
        "\n"
      ],
      "metadata": {
        "id": "AbQLBYBKR1_b",
        "colab": {
          "base_uri": "https://localhost:8080/"
        },
        "outputId": "d09e1270-f828-48b9-eb47-0021e9315026"
      },
      "execution_count": null,
      "outputs": [
        {
          "output_type": "stream",
          "name": "stdout",
          "text": [
            "Requirement already satisfied: Flask in /usr/local/lib/python3.10/dist-packages (2.2.5)\n",
            "Requirement already satisfied: Werkzeug>=2.2.2 in /usr/local/lib/python3.10/dist-packages (from Flask) (3.0.3)\n",
            "Requirement already satisfied: Jinja2>=3.0 in /usr/local/lib/python3.10/dist-packages (from Flask) (3.1.4)\n",
            "Requirement already satisfied: itsdangerous>=2.0 in /usr/local/lib/python3.10/dist-packages (from Flask) (2.2.0)\n",
            "Requirement already satisfied: click>=8.0 in /usr/local/lib/python3.10/dist-packages (from Flask) (8.1.7)\n",
            "Requirement already satisfied: MarkupSafe>=2.0 in /usr/local/lib/python3.10/dist-packages (from Jinja2>=3.0->Flask) (2.1.5)\n",
            " * Serving Flask app '__main__'\n",
            " * Debug mode: on\n"
          ]
        },
        {
          "output_type": "stream",
          "name": "stderr",
          "text": [
            "INFO:werkzeug:\u001b[31m\u001b[1mWARNING: This is a development server. Do not use it in a production deployment. Use a production WSGI server instead.\u001b[0m\n",
            " * Running on http://127.0.0.1:5000\n",
            "INFO:werkzeug:\u001b[33mPress CTRL+C to quit\u001b[0m\n",
            "INFO:werkzeug: * Restarting with stat\n"
          ]
        },
        {
          "output_type": "stream",
          "name": "stdout",
          "text": [
            "python3: can't open file '/content/app.py': [Errno 2] No such file or directory\n"
          ]
        }
      ]
    },
    {
      "cell_type": "code",
      "source": [
        "#40.Explain how to set up a Flask application to handle form submissions using POST requests.\n",
        "\n",
        "#Create a file named app.py:\n",
        "from flask import Flask, request, render_template\n",
        "\n",
        "app = Flask(__name__)\n",
        "\n",
        "@app.route('/')\n",
        "def index():\n",
        "    return render_template('index.html')\n",
        "\n",
        "@app.route('/submit', methods=['POST'])\n",
        "def submit():\n",
        "    data = request.form['data']\n",
        "    return f\"Submitted data: {data}\"\n",
        "\n",
        "if __name__ == '__main__':\n",
        "    app.run(debug=True)\n",
        "!touch templates/index.html\n",
        "    <title>Form Submission</title>\n",
        "</head>\n",
        "<body>\n",
        "    <form action=\"/submit\" method=\"post\">\n",
        "        <input type=\"text\" name=\"data\" />\n",
        "        <input type=\"submit\" value=\"Submit\" />\n",
        "    </form>\n",
        "</body>\n",
        "</html>\n",
        "\n",
        "\n",
        "#Run the Flask application:\n",
        "python app.py\n"
      ],
      "metadata": {
        "id": "zD2Izm26R2C7"
      },
      "execution_count": null,
      "outputs": []
    },
    {
      "cell_type": "code",
      "source": [
        "#41. Write a Flask route that accepts a parameter in the URL and displays it on the page\n",
        "\n",
        "\n",
        "#Create a file named app.py:\n",
        "from flask import Flask\n",
        "\n",
        "app = Flask(__name__)\n",
        "\n",
        "@app.route('/<name>')\n",
        "def hello_name(name):\n",
        "    return f\"Hello, {name}!\"\n",
        "\n",
        "if __name__ == '__main__':\n",
        "    app.run(debug=True)\n",
        "\n",
        "#Run the Flask application:\n",
        "python app.py\n"
      ],
      "metadata": {
        "id": "QfmnebWPaHXB"
      },
      "execution_count": null,
      "outputs": []
    },
    {
      "cell_type": "code",
      "source": [
        "#42.How can you implement user authentication in a Flask application?\n",
        "\n",
        "#Install Flask-Login:\n",
        "pip install Flask-Login\n",
        "\n",
        "#Create a file named app.py:\n",
        "from flask import Flask, render_template, redirect, url_for, request\n",
        "from flask_login import LoginManager, UserMixin, login_user, login_required, logout_user, current_user\n",
        "\n",
        "app = Flask(__name__)\n",
        "app.config['SECRET_KEY'] = 'your_secret_key'\n",
        "\n",
        "login_manager = LoginManager()\n",
        "login_manager.init_app(app)\n",
        "\n",
        "class User(UserMixin):\n",
        "    def __init__(self, id):\n",
        "        self.id = id\n",
        "\n",
        "users = {'user': {'password': 'password'}}\n",
        "\n",
        "@login_manager.user_loader\n",
        "def load_user(user_id):\n",
        "    return User(user_id)\n",
        "\n",
        "@app.route('/')\n",
        "def home():\n",
        "    return \"Welcome to the Home Page\"\n",
        "\n",
        "@app.route('/login', methods=['GET', 'POST'])\n",
        "def login():\n",
        "    if request.method == 'POST':\n",
        "        username = request.form['username']\n",
        "        password = request.form['password']\n",
        "        if username in users and users[username]['password'] == password:\n",
        "            user = User(username)\n",
        "            login_user(user)\n",
        "            return redirect(url_for('dashboard'))\n",
        "    return render_template('login.html')\n",
        "\n",
        "@app.route('/dashboard')\n",
        "@login_required\n",
        "def dashboard():\n",
        "    return f\"Hello, {current_user.id}! Welcome to your dashboard.\"\n",
        "\n",
        "@app.route('/logout')\n",
        "@login_required\n",
        "def logout():\n",
        "    logout_user()\n",
        "    return redirect(url_for('home'))\n",
        "\n",
        "if __name__ == '__main__':\n",
        "    app.run(debug=True)\n",
        "\n",
        "\n",
        "#Create a file named templates/login.html:\n",
        "<!DOCTYPE html>\n",
        "<html>\n",
        "<head>\n",
        "    <title>Login</title>\n",
        "</head>\n",
        "<body>\n",
        "    <form method=\"post\">\n",
        "        <input type=\"text\" name=\"username\" placeholder=\"Username\" />\n",
        "        <input type=\"password\" name=\"password\" placeholder=\"Password\" />\n",
        "        <input type=\"submit\" value=\"Login\" />\n",
        "    </form>\n",
        "</body>\n",
        "</html>\n",
        "\n",
        "#Run the Flask application:\n",
        "python app.py\n"
      ],
      "metadata": {
        "id": "3ySkw9awblqX"
      },
      "execution_count": null,
      "outputs": []
    },
    {
      "cell_type": "code",
      "source": [
        "#43.Describe the process of connecting a Flask app to a SQLite database using SQLAlchemy.\n",
        "\n",
        "#Install Flask-SQLAlchemy:\n",
        "pip install Flask-SQLAlchemy\n",
        "\n",
        "\n",
        "#Create a file named app.py:\n",
        "from flask import Flask\n",
        "from flask_sqlalchemy import SQLAlchemy\n",
        "\n",
        "app = Flask(__name__)\n",
        "app.config['SQLALCHEMY_DATABASE_URI'] = 'sqlite:///test.db'\n",
        "db = SQLAlchemy(app)\n",
        "\n",
        "class User(db.Model):\n",
        "    id = db.Column(db.Integer, primary_key=True)\n",
        "    username = db.Column(db.String(80), unique=True, nullable=False)\n",
        "\n",
        "@app.route('/')\n",
        "def home():\n",
        "    return \"Hello, World!\"\n",
        "\n",
        "if __name__ == '__main__':\n",
        "    db.create_all()\n",
        "    app.run(debug=True)\n",
        "\n",
        "#Run the Flask application:\n",
        "python app.py\n"
      ],
      "metadata": {
        "id": "5-TYDmVJbltJ"
      },
      "execution_count": null,
      "outputs": []
    },
    {
      "cell_type": "code",
      "source": [
        "#44.How would you create a RESTful API endpoint in Flask that returns JSON data?\n",
        "\n",
        "#Install Flask and Flask-RESTful:\n",
        "pip install Flask Flask-RESTful\n",
        "\n",
        "\n",
        "#Create a file named app.py:\n",
        "from flask import Flask\n",
        "from flask_restful import Resource, Api\n",
        "\n",
        "app = Flask(__name__)\n",
        "api = Api(app)\n",
        "\n",
        "class HelloWorld(Resource):\n",
        "    def get(self):\n",
        "        return {'message': 'Hello, World!'}\n",
        "\n",
        "api.add_resource(HelloWorld, '/')\n",
        "\n",
        "if __name__ == '__main__':\n",
        "    app.run(debug=True)\n",
        "\n",
        "#Run the Flask application:\n",
        "python app.py\n"
      ],
      "metadata": {
        "id": "yVzTMMKMblvu"
      },
      "execution_count": null,
      "outputs": []
    },
    {
      "cell_type": "code",
      "source": [
        "#45.Explain how to use Flask-WTF to create and validate forms in a Flask application.\n",
        "\n",
        "#Install Flask-WTF:\n",
        "pip install Flask-WTF\n",
        "\n",
        "#Create a file named app.py:\n",
        "from flask import Flask, render_template, request\n",
        "from flask_wtf import FlaskForm\n",
        "from wtforms import StringField, SubmitField\n",
        "from wtforms.validators import DataRequired\n",
        "\n",
        "app = Flask(__name__)\n",
        "app.config['SECRET_KEY'] = 'your_secret_key'\n",
        "\n",
        "class MyForm(FlaskForm):\n",
        "    name = StringField('Name', validators=[DataRequired()])\n",
        "    submit = SubmitField('Submit')\n",
        "\n",
        "@app.route('/', methods=['GET', 'POST'])\n",
        "def index():\n",
        "    form = MyForm()\n",
        "    if form.validate_on_submit():\n",
        "        return f\"Hello, {form.name.data}!\"\n",
        "    return render_template('index.html', form=form)\n",
        "\n",
        "if __name__ == '__main__':\n",
        "    app.run(debug=True)\n",
        "\n",
        "#<!DOCTYPE html>\n",
        "<html>\n",
        "<head>\n",
        "    <title>Form</title>\n",
        "</head>\n",
        "<body>\n",
        "    <form method=\"post\">\n",
        "        {{ form.hidden_tag() }}\n",
        "        {{ form.name.label }} {{ form.name() }}<br>\n",
        "        {{ form.submit() }}\n",
        "    </form>\n",
        "</body>\n",
        "</html>\n",
        "\n",
        "#Run the Flask application:\n",
        "python app.py\n"
      ],
      "metadata": {
        "id": "WnXQkzRfblzG"
      },
      "execution_count": null,
      "outputs": []
    },
    {
      "cell_type": "code",
      "source": [
        "#46.How can you implement file uploads in a Flask application?\n",
        "\n",
        "#Install Flask:\n",
        "pip install Flask\n",
        "\n",
        "\n",
        "#Create a file named app.py:\n",
        "from flask import Flask, request, redirect, url_for, render_template\n",
        "import os\n",
        "\n",
        "app = Flask(__name__)\n",
        "app.config['UPLOAD_FOLDER'] = 'uploads/'\n",
        "os.makedirs(app.config['UPLOAD_FOLDER'], exist_ok=True)\n",
        "app.config['MAX_CONTENT_PATH'] = 1024 * 1024 * 5  # Limit upload size to 5MB\n",
        "\n",
        "@app.route('/')\n",
        "def index():\n",
        "    return render_template('index.html')\n",
        "\n",
        "@app.route('/upload', methods=['POST'])\n",
        "def upload_file():\n",
        "    if 'file' not in request.files:\n",
        "        return redirect(request.url)\n",
        "    file = request.files['file']\n",
        "    if file.filename == '':\n",
        "        return redirect(request.url)\n",
        "    if file:\n",
        "        file.save(os.path.join(app.config['UPLOAD_FOLDER'], file.filename))\n",
        "        return f\"File {file.filename} uploaded successfully\"\n",
        "\n",
        "if __name__ == '__main__':\n",
        "    app.run(debug=True)\n",
        "\n",
        "#Create a file named templates/index.html:\n",
        "<!DOCTYPE html>\n",
        "<html>\n",
        "<head>\n",
        "    <title>File Upload</title>\n",
        "</head>\n",
        "<body>\n",
        "    <h1>Upload a File</h1>\n",
        "    <form method=\"post\" enctype=\"multipart/form-data\" action=\"/upload\">\n",
        "        <input type=\"file\" name=\"file\">\n",
        "        <input type=\"submit\" value=\"Upload\">\n",
        "    </form>\n",
        "</body>\n",
        "</html>\n",
        "\n",
        "\n",
        "#Run the Flask application:\n",
        "python app.py\n"
      ],
      "metadata": {
        "id": "aiamNnVJeLmK"
      },
      "execution_count": null,
      "outputs": []
    },
    {
      "cell_type": "code",
      "source": [
        "#48.How would you deploy a Flask application to a production server using Gunicorn and Nginx?\n",
        "\n",
        "#Install Gunicorn:\n",
        "pip install gunicorn\n",
        "\n",
        "#Create a WSGI entry point for your Flask app:\n",
        "# In a file named wsgi.py\n",
        "from app import app\n",
        "\n",
        "if __name__ == \"__main__\":\n",
        "    app.run()\n",
        "\n",
        "#Run the Flask application with Gunicorn:\n",
        "gunicorn -w 4 -b 0.0.0.0:8000 wsgi:app\n",
        "\n",
        "\n",
        "#Install Nginx:\n",
        "sudo apt update\n",
        "sudo apt install nginx\n",
        "\n",
        "#Configure Nginx to reverse proxy to Gunicorn:\n",
        "sudo nano /etc/nginx/sites-available/yourapp\n",
        "\n",
        "# Add the following configuration:\n",
        "server {\n",
        "    listen 80;\n",
        "    server_name your_domain_or_ip;\n",
        "\n",
        "    location / {\n",
        "        proxy_pass http://127.0.0.1:8000;\n",
        "        proxy_set_header Host $host;\n",
        "        proxy_set_header X-Real-IP $remote_addr;\n",
        "        proxy_set_header X-Forwarded-For $proxy_add_x_forwarded_for;\n",
        "        proxy_set_header X-Forwarded-Proto $scheme;\n",
        "    }\n",
        "}\n",
        "\n",
        "# Enable the configuration\n",
        "sudo ln -s /etc/nginx/sites-available/yourapp /etc/nginx/sites-enabled\n",
        "sudo nginx -t\n",
        "sudo systemctl restart nginx\n",
        "\n"
      ],
      "metadata": {
        "id": "14BEpvFxeLpM"
      },
      "execution_count": null,
      "outputs": []
    },
    {
      "cell_type": "code",
      "source": [
        "#49. Make a fully functional web application using flask, Mangodb. Signup, Signin page. And after successfully login.Say hello Geeks message at webpage.\n",
        "\n",
        "#Install necessary packages:\n",
        "pip install Flask Flask-PyMongo Flask-Bcrypt Flask-Login\n",
        "\n",
        "#Create the main Flask application file app.py:\n",
        "from flask import Flask, render_template, redirect, url_for, request, session\n",
        "from flask_pymongo import PyMongo\n",
        "from flask_bcrypt import Bcrypt\n",
        "from flask_login import LoginManager, UserMixin, login_user, login_required, logout_user, current_user\n",
        "\n",
        "app = Flask(__name__)\n",
        "app.config['MONGO_URI'] = 'mongodb://localhost:27017/myDatabase'\n",
        "app.config['SECRET_KEY'] = 'your_secret_key'\n",
        "\n",
        "mongo = PyMongo(app)\n",
        "bcrypt = Bcrypt(app)\n",
        "login_manager = LoginManager(app)\n",
        "login_manager.login_view = 'login'\n",
        "\n",
        "class User(UserMixin):\n",
        "    def __init__(self, username):\n",
        "        self.id = username\n",
        "\n",
        "@login_manager.user_loader\n",
        "def load_user(user_id):\n",
        "    return User(user_id)\n",
        "\n",
        "@app.route('/signup', methods=['GET', 'POST'])\n",
        "def signup():\n",
        "    if request.method == 'POST':\n",
        "        username = request.form['username']\n",
        "        password = request.form['password']\n",
        "        hashed_password = bcrypt.generate_password_hash(password).decode('utf-8')\n",
        "        mongo.db.users.insert_one({'username': username, 'password': hashed_password})\n",
        "        return redirect(url_for('login'))\n",
        "    return render_template('signup.html')\n",
        "\n",
        "@app.route('/login', methods=['GET', 'POST'])\n",
        "def login():\n",
        "    if request.method == 'POST':\n",
        "        username = request.form['username']\n",
        "        password = request.form['password']\n",
        "        user = mongo.db.users.find_one({'username': username})\n",
        "        if user and bcrypt.check_password_hash(user['password'], password):\n",
        "            login_user(User(username))\n",
        "            return redirect(url_for('dashboard'))\n",
        "    return render_template('login.html')\n",
        "\n",
        "@app.route('/dashboard')\n",
        "@login_required\n",
        "def dashboard():\n",
        "    return f\"Hello, Geeks! Welcome to your dashboard, {current_user.id}!\"\n",
        "\n",
        "@app.route('/logout')\n",
        "@login_required\n",
        "def logout():\n",
        "    logout_user()\n",
        "    return redirect(url_for('login'))\n",
        "\n",
        "if __name__ == '__main__':\n",
        "    app.run(debug=True)\n",
        "\n",
        "\n",
        "#Create the templates:\n",
        "\n",
        "#templates/signup.html:\n",
        "<!DOCTYPE html>\n",
        "<html>\n",
        "<head>\n",
        "    <title>Signup</title>\n",
        "</head>\n",
        "<body>\n",
        "    <form method=\"post\">\n",
        "        <input type=\"text\" name=\"username\" placeholder=\"Username\" required>\n",
        "        <input type=\"password\" name=\"password\" placeholder=\"Password\" required>\n",
        "        <input type=\"submit\" value=\"Signup\">\n",
        "    </form>\n",
        "</body>\n",
        "</html>\n",
        "\n",
        "#templates/login.html:\n",
        "<!DOCTYPE html>\n",
        "<html>\n",
        "<head>\n",
        "    <title>Login</title>\n",
        "</head>\n",
        "<body>\n",
        "    <form method=\"post\">\n",
        "        <input type=\"text\" name=\"username\" placeholder=\"Username\" required>\n",
        "        <input type=\"password\" name=\"password\" placeholder=\"Password\" required>\n",
        "        <input type=\"submit\" value=\"Login\">\n",
        "    </form>\n",
        "</body>\n",
        "</html>\n",
        "\n",
        "\n",
        "#Ensure MongoDB is running:\n",
        "sudo service mongod start\n",
        "\n",
        "\n",
        "#Run the Flask application:\n",
        "python app.py\n"
      ],
      "metadata": {
        "id": "a_s6zm-_eLr6"
      },
      "execution_count": null,
      "outputs": []
    },
    {
      "cell_type": "code",
      "source": [
        "#50.• Create a database name Travel_Planner in mysql, and create a table name bookings in that which having attributes (user_id INT, flight_id INT,hotel_id INT, activity_id INT,booking_date DATE) .fill with some dummy value.Now you have to read the content of this table using pandas as dataframe.Show the output\n",
        "\n",
        "##-- SQL script to create the database and table, and insert dummy data\n",
        "CREATE DATABASE Travel_Planner;\n",
        "\n",
        "USE Travel_Planner;\n",
        "\n",
        "CREATE TABLE bookings (\n",
        "    user_id INT,\n",
        "    flight_id INT,\n",
        "    hotel_id INT,\n",
        "    activity_id INT,\n",
        "    booking_date DATE\n",
        ");\n",
        "\n",
        "INSERT INTO bookings (user_id, flight_id, hotel_id, activity_id, booking_date) VALUES\n",
        "(1, 101, 201, 301, '2023-01-01'),\n",
        "(2, 102, 202, 302, '2023-01-02'),\n",
        "(3, 103, 203, 303, '2023-01-03');\n",
        "\n",
        "\n",
        "\n",
        "# Python script to read the content of the table using pandas\n",
        "import pandas as pd\n",
        "import mysql.connector\n",
        "\n",
        "# Connect to the MySQL database\n",
        "connection = mysql.connector.connect(\n",
        "    host='localhost',\n",
        "    user='your_username',\n",
        "    password='your_password',\n",
        "    database='Travel_Planner'\n",
        ")\n",
        "\n",
        "# Query to select all data from the table\n",
        "query = \"SELECT * FROM bookings\"\n",
        "\n",
        "# Read the data into a pandas DataFrame\n",
        "df = pd.read_sql(query, connection)\n",
        "\n",
        "# Close the connection\n",
        "connection.close()\n",
        "\n",
        "# Display the DataFrame\n",
        "print(df)\n",
        "\n",
        "\n"
      ],
      "metadata": {
        "id": "PMo-JpgGeLu0"
      },
      "execution_count": null,
      "outputs": []
    },
    {
      "cell_type": "markdown",
      "source": [
        "Machine Learning Practical Questions\n"
      ],
      "metadata": {
        "id": "6SvNPRVdjicq"
      }
    },
    {
      "cell_type": "markdown",
      "source": [
        "1.lung cancer"
      ],
      "metadata": {
        "id": "EFR7m7Acj-iI"
      }
    },
    {
      "cell_type": "code",
      "source": [
        "import zipfile\n",
        "zip_ref = zipfile.ZipFile('lungs_cancer.zip', 'r')\n",
        "zip_ref.extractall('/content')\n",
        "zip_ref.close()\n"
      ],
      "metadata": {
        "id": "XaUpj4wJkX3w"
      },
      "execution_count": 8,
      "outputs": []
    },
    {
      "cell_type": "code",
      "source": [
        "import pandas as pd\n",
        "\n",
        "# Load the dataset\n",
        "df = pd.read_csv('dataset.csv')\n",
        "\n",
        "# Display basic information about the dataset\n",
        "print(df.info())\n",
        "print(df.head())\n"
      ],
      "metadata": {
        "id": "v_EyWFIfeLyP",
        "colab": {
          "base_uri": "https://localhost:8080/"
        },
        "outputId": "30fab384-9180-4099-e4da-2dc662bd8280"
      },
      "execution_count": 9,
      "outputs": [
        {
          "output_type": "stream",
          "name": "stdout",
          "text": [
            "<class 'pandas.core.frame.DataFrame'>\n",
            "RangeIndex: 3000 entries, 0 to 2999\n",
            "Data columns (total 16 columns):\n",
            " #   Column                 Non-Null Count  Dtype \n",
            "---  ------                 --------------  ----- \n",
            " 0   GENDER                 3000 non-null   object\n",
            " 1   AGE                    3000 non-null   int64 \n",
            " 2   SMOKING                3000 non-null   int64 \n",
            " 3   YELLOW_FINGERS         3000 non-null   int64 \n",
            " 4   ANXIETY                3000 non-null   int64 \n",
            " 5   PEER_PRESSURE          3000 non-null   int64 \n",
            " 6   CHRONIC_DISEASE        3000 non-null   int64 \n",
            " 7   FATIGUE                3000 non-null   int64 \n",
            " 8   ALLERGY                3000 non-null   int64 \n",
            " 9   WHEEZING               3000 non-null   int64 \n",
            " 10  ALCOHOL_CONSUMING      3000 non-null   int64 \n",
            " 11  COUGHING               3000 non-null   int64 \n",
            " 12  SHORTNESS_OF_BREATH    3000 non-null   int64 \n",
            " 13  SWALLOWING_DIFFICULTY  3000 non-null   int64 \n",
            " 14  CHEST_PAIN             3000 non-null   int64 \n",
            " 15  LUNG_CANCER            3000 non-null   object\n",
            "dtypes: int64(14), object(2)\n",
            "memory usage: 375.1+ KB\n",
            "None\n",
            "  GENDER  AGE  SMOKING  YELLOW_FINGERS  ANXIETY  PEER_PRESSURE  \\\n",
            "0      M   65        1               1        1              2   \n",
            "1      F   55        1               2        2              1   \n",
            "2      F   78        2               2        1              1   \n",
            "3      M   60        2               1        1              1   \n",
            "4      F   80        1               1        2              1   \n",
            "\n",
            "   CHRONIC_DISEASE  FATIGUE  ALLERGY  WHEEZING  ALCOHOL_CONSUMING  COUGHING  \\\n",
            "0                2        1        2         2                  2         2   \n",
            "1                1        2        2         2                  1         1   \n",
            "2                1        2        1         2                  1         1   \n",
            "3                2        1        2         1                  1         2   \n",
            "4                1        2        1         2                  1         1   \n",
            "\n",
            "   SHORTNESS_OF_BREATH  SWALLOWING_DIFFICULTY  CHEST_PAIN LUNG_CANCER  \n",
            "0                    2                      2           1          NO  \n",
            "1                    1                      2           2          NO  \n",
            "2                    2                      1           1         YES  \n",
            "3                    1                      2           2         YES  \n",
            "4                    1                      1           2          NO  \n"
          ]
        }
      ]
    },
    {
      "cell_type": "code",
      "source": [
        "# Check for missing values\n",
        "missing_values = df.isnull().sum()\n",
        "print(missing_values)\n"
      ],
      "metadata": {
        "colab": {
          "base_uri": "https://localhost:8080/"
        },
        "id": "WNRl1xlTlC8o",
        "outputId": "2e16cdce-3af8-4acf-9110-70cb86aeed2c"
      },
      "execution_count": 6,
      "outputs": [
        {
          "output_type": "stream",
          "name": "stdout",
          "text": [
            "GENDER                   0\n",
            "AGE                      0\n",
            "SMOKING                  0\n",
            "YELLOW_FINGERS           0\n",
            "ANXIETY                  0\n",
            "PEER_PRESSURE            0\n",
            "CHRONIC_DISEASE          0\n",
            "FATIGUE                  0\n",
            "ALLERGY                  0\n",
            "WHEEZING                 0\n",
            "ALCOHOL_CONSUMING        0\n",
            "COUGHING                 0\n",
            "SHORTNESS_OF_BREATH      0\n",
            "SWALLOWING_DIFFICULTY    0\n",
            "CHEST_PAIN               0\n",
            "LUNG_CANCER              0\n",
            "dtype: int64\n"
          ]
        }
      ]
    },
    {
      "cell_type": "code",
      "source": [
        "# Get descriptive statistics\n",
        "statistics = df.describe()\n",
        "print(statistics)\n"
      ],
      "metadata": {
        "colab": {
          "base_uri": "https://localhost:8080/"
        },
        "id": "fGdwRoCvlGBA",
        "outputId": "f04d2431-8f2c-438d-c113-3ef4b7183c01"
      },
      "execution_count": 7,
      "outputs": [
        {
          "output_type": "stream",
          "name": "stdout",
          "text": [
            "               AGE      SMOKING  YELLOW_FINGERS      ANXIETY  PEER_PRESSURE  \\\n",
            "count  3000.000000  3000.000000     3000.000000  3000.000000    3000.000000   \n",
            "mean     55.169000     1.491000        1.514000     1.494000       1.499000   \n",
            "std      14.723746     0.500002        0.499887     0.500047       0.500082   \n",
            "min      30.000000     1.000000        1.000000     1.000000       1.000000   \n",
            "25%      42.000000     1.000000        1.000000     1.000000       1.000000   \n",
            "50%      55.000000     1.000000        2.000000     1.000000       1.000000   \n",
            "75%      68.000000     2.000000        2.000000     2.000000       2.000000   \n",
            "max      80.000000     2.000000        2.000000     2.000000       2.000000   \n",
            "\n",
            "       CHRONIC_DISEASE      FATIGUE      ALLERGY     WHEEZING  \\\n",
            "count      3000.000000  3000.000000  3000.000000  3000.000000   \n",
            "mean          1.509667     1.489667     1.506667     1.497333   \n",
            "std           0.499990     0.499977     0.500039     0.500076   \n",
            "min           1.000000     1.000000     1.000000     1.000000   \n",
            "25%           1.000000     1.000000     1.000000     1.000000   \n",
            "50%           2.000000     1.000000     2.000000     1.000000   \n",
            "75%           2.000000     2.000000     2.000000     2.000000   \n",
            "max           2.000000     2.000000     2.000000     2.000000   \n",
            "\n",
            "       ALCOHOL_CONSUMING     COUGHING  SHORTNESS_OF_BREATH  \\\n",
            "count        3000.000000  3000.000000          3000.000000   \n",
            "mean            1.491333     1.510667             1.488000   \n",
            "std             0.500008     0.499970             0.499939   \n",
            "min             1.000000     1.000000             1.000000   \n",
            "25%             1.000000     1.000000             1.000000   \n",
            "50%             1.000000     2.000000             1.000000   \n",
            "75%             2.000000     2.000000             2.000000   \n",
            "max             2.000000     2.000000             2.000000   \n",
            "\n",
            "       SWALLOWING_DIFFICULTY   CHEST_PAIN  \n",
            "count            3000.000000  3000.000000  \n",
            "mean                1.489667     1.498667  \n",
            "std                 0.499977     0.500082  \n",
            "min                 1.000000     1.000000  \n",
            "25%                 1.000000     1.000000  \n",
            "50%                 1.000000     1.000000  \n",
            "75%                 2.000000     2.000000  \n",
            "max                 2.000000     2.000000  \n"
          ]
        }
      ]
    },
    {
      "cell_type": "code",
      "source": [
        "import seaborn as sns\n",
        "import matplotlib.pyplot as plt\n",
        "\n",
        "# Select a subset of columns for the pair plot\n",
        "columns_to_plot = ['SMOKING', 'CHEST_PAIN', 'ALLERGY']  # replace with actual column names\n",
        "sns.pairplot(df[columns_to_plot])\n",
        "plt.show()\n"
      ],
      "metadata": {
        "colab": {
          "base_uri": "https://localhost:8080/",
          "height": 643
        },
        "id": "Pof0dRaolLTs",
        "outputId": "388fa725-9d56-4d7f-b188-c13d26624388"
      },
      "execution_count": 13,
      "outputs": [
        {
          "output_type": "display_data",
          "data": {
            "text/plain": [
              "<Figure size 750x750 with 12 Axes>"
            ],
            "image/png": "[encoded data removed]"
          },
          "metadata": {}
        }
      ]
    },
    {
      "cell_type": "code",
      "source": [
        "# Plot box plots for selected columns\n",
        "columns_to_plot = ['SMOKING', 'CHEST_PAIN', 'ALLERGY']  # replace with actual column names\n",
        "df[columns_to_plot].plot(kind='box', subplots=True, layout=(1, len(columns_to_plot)), figsize=(15, 5))\n",
        "plt.show()\n"
      ],
      "metadata": {
        "colab": {
          "base_uri": "https://localhost:8080/",
          "height": 239
        },
        "id": "VzGWOBdDm8V_",
        "outputId": "7dd2b6a4-611d-4914-f5d3-c99045360ea3"
      },
      "execution_count": 16,
      "outputs": [
        {
          "output_type": "display_data",
          "data": {
            "text/plain": [
              "<Figure size 1500x500 with 3 Axes>"
            ],
            "image/png": "[encoded data removed]"
          },
          "metadata": {}
        }
      ]
    },
    {
      "cell_type": "code",
      "source": [
        "# Display value counts for selected categorical columns\n",
        "categorical_columns = ['SMOKING', 'CHEST_PAIN', 'ALLERGY']  # replace with actual column names\n",
        "for col in categorical_columns:\n",
        "    print(f\"Value counts for {col}:\")\n",
        "    print(df[col].value_counts())\n",
        "    print(\"\\n\")\n"
      ],
      "metadata": {
        "colab": {
          "base_uri": "https://localhost:8080/"
        },
        "id": "9m67x3B8nlwO",
        "outputId": "6489ae8a-8bd9-4804-95df-12fe4f2c6785"
      },
      "execution_count": 18,
      "outputs": [
        {
          "output_type": "stream",
          "name": "stdout",
          "text": [
            "Value counts for SMOKING:\n",
            "SMOKING\n",
            "1    1527\n",
            "2    1473\n",
            "Name: count, dtype: int64\n",
            "\n",
            "\n",
            "Value counts for CHEST_PAIN:\n",
            "CHEST_PAIN\n",
            "1    1504\n",
            "2    1496\n",
            "Name: count, dtype: int64\n",
            "\n",
            "\n",
            "Value counts for ALLERGY:\n",
            "ALLERGY\n",
            "2    1520\n",
            "1    1480\n",
            "Name: count, dtype: int64\n",
            "\n",
            "\n"
          ]
        }
      ]
    },
    {
      "cell_type": "markdown",
      "source": [
        "2. Election results 2024"
      ],
      "metadata": {
        "id": "NIFNjcP3pDwK"
      }
    },
    {
      "cell_type": "code",
      "source": [
        "import pandas as pd\n",
        "\n",
        "# Load the dataset\n",
        "df = pd.read_csv('election2024.csv')\n"
      ],
      "metadata": {
        "id": "jYdokTGQn5bX"
      },
      "execution_count": 1,
      "outputs": []
    },
    {
      "cell_type": "code",
      "source": [
        "# Display the first few rows\n",
        "print(df.head())\n",
        "\n",
        "# Display basic information about the dataset\n",
        "print(df.info())\n",
        "\n",
        "# Display summary statistics\n",
        "print(df.describe())\n"
      ],
      "metadata": {
        "colab": {
          "base_uri": "https://localhost:8080/"
        },
        "id": "7Bt-QIIQpTYm",
        "outputId": "43377be8-fe84-4a23-c518-026e146ec002"
      },
      "execution_count": 2,
      "outputs": [
        {
          "output_type": "stream",
          "name": "stdout",
          "text": [
            "                 id   sex   age federal_district  \\\n",
            "0  07169ed8148ce047  male  18.0  north caucasian   \n",
            "1  0716a4f3354cecdd  male  23.0  north caucasian   \n",
            "2  0716889b304ce79c  male  20.0            volga   \n",
            "3  07168e28b5cce563  male  22.0     northwestern   \n",
            "4  0716a563914ce549  male  21.0         southern   \n",
            "\n",
            "                                   type_of_city    knows_election_date  \\\n",
            "0                                       village     named correct date   \n",
            "1                                       village     named correct date   \n",
            "2         city with population of less than 50k     named correct date   \n",
            "3  city with population of 1 million and higher  not sure or no answer   \n",
            "4  city with population of 1 million and higher     named correct date   \n",
            "\n",
            "        will_vote candidate      television_usage      internet_usage  \\\n",
            "0        not sure     Putin  several times a week  over 4 hours a day   \n",
            "1        not sure     Putin      once half a year  over 4 hours a day   \n",
            "2  definitely yes     Putin  several times a week  over 4 hours a day   \n",
            "3        not sure  Davankov  several times a week  over 4 hours a day   \n",
            "4  definitely yes     Putin        does not watch  over 4 hours a day   \n",
            "\n",
            "                     education     income        employment  \\\n",
            "0  incomplete school education  very high      entrepreneur   \n",
            "1                      college  very high     work for hire   \n",
            "2                      college  very high     work for hire   \n",
            "3                      college  very high        unemployed   \n",
            "4              bachelor degree  very high  employed student   \n",
            "\n",
            "                  job_type                       company_type   weight1  \n",
            "0                      NaN                            farming  1.445172  \n",
            "1  commercial organization                              trade  1.445172  \n",
            "2   law enforcement agency             law enforcement agency  1.301691  \n",
            "3                      NaN                                NaN  1.538628  \n",
            "4  commercial organization  tech, programming, communications  1.967015  \n",
            "<class 'pandas.core.frame.DataFrame'>\n",
            "RangeIndex: 1600 entries, 0 to 1599\n",
            "Data columns (total 16 columns):\n",
            " #   Column               Non-Null Count  Dtype  \n",
            "---  ------               --------------  -----  \n",
            " 0   id                   1600 non-null   object \n",
            " 1   sex                  1600 non-null   object \n",
            " 2   age                  1600 non-null   float64\n",
            " 3   federal_district     1600 non-null   object \n",
            " 4   type_of_city         1600 non-null   object \n",
            " 5   knows_election_date  1600 non-null   object \n",
            " 6   will_vote            1600 non-null   object \n",
            " 7   candidate            1600 non-null   object \n",
            " 8   television_usage     1600 non-null   object \n",
            " 9   internet_usage       1600 non-null   object \n",
            " 10  education            1600 non-null   object \n",
            " 11  income               1600 non-null   object \n",
            " 12  employment           1600 non-null   object \n",
            " 13  job_type             692 non-null    object \n",
            " 14  company_type         879 non-null    object \n",
            " 15  weight1              1600 non-null   float64\n",
            "dtypes: float64(2), object(14)\n",
            "memory usage: 200.1+ KB\n",
            "None\n",
            "               age      weight1\n",
            "count  1600.000000  1600.000000\n",
            "mean     49.936250     1.000000\n",
            "std      16.901797     0.327084\n",
            "min      18.000000     0.468226\n",
            "25%      37.000000     0.772224\n",
            "50%      49.000000     0.921724\n",
            "75%      64.000000     1.158913\n",
            "max      90.000000     2.515072\n"
          ]
        }
      ]
    },
    {
      "cell_type": "code",
      "source": [
        "# Check for missing values\n",
        "print(df.isnull().sum())\n",
        "\n",
        "# Fill or drop missing values as appropriate\n",
        "df = df.dropna()  # Example: drop rows with missing values\n"
      ],
      "metadata": {
        "colab": {
          "base_uri": "https://localhost:8080/"
        },
        "id": "sMzjZKgTpYFy",
        "outputId": "04959e19-0f93-4c36-9894-63533aaf89c6"
      },
      "execution_count": 3,
      "outputs": [
        {
          "output_type": "stream",
          "name": "stdout",
          "text": [
            "id                       0\n",
            "sex                      0\n",
            "age                      0\n",
            "federal_district         0\n",
            "type_of_city             0\n",
            "knows_election_date      0\n",
            "will_vote                0\n",
            "candidate                0\n",
            "television_usage         0\n",
            "internet_usage           0\n",
            "education                0\n",
            "income                   0\n",
            "employment               0\n",
            "job_type               908\n",
            "company_type           721\n",
            "weight1                  0\n",
            "dtype: int64\n"
          ]
        }
      ]
    },
    {
      "cell_type": "code",
      "source": [
        "import matplotlib.pyplot as plt\n",
        "import seaborn as sns\n",
        "\n",
        "# Plot histograms for numerical features\n",
        "df.hist(bins=30, figsize=(20, 15))\n",
        "plt.show()\n",
        "\n",
        "# Plot count plots for categorical features\n",
        "for column in df.select_dtypes(include=['object']).columns:\n",
        "    sns.countplot(y=column, data=df)\n",
        "    plt.show()\n"
      ],
      "metadata": {
        "colab": {
          "base_uri": "https://localhost:8080/",
          "height": 1000
        },
        "id": "fP4pwDIhptFl",
        "outputId": "f6dc53ca-375a-4b5b-a01f-2b9f7fdfd8df"
      },
      "execution_count": 6,
      "outputs": [
        {
          "output_type": "display_data",
          "data": {
            "text/plain": [
              "<Figure size 2000x1500 with 2 Axes>"
            ],
            "image/png": "[encoded data removed]"
          },
          "metadata": {}
        },
        {
          "output_type": "display_data",
          "data": {
            "text/plain": [
              "<Figure size 640x480 with 1 Axes>"
            ],
            "image/png": "[encoded data removed]"
          },
          "metadata": {}
        },
        {
          "output_type": "display_data",
          "data": {
            "text/plain": [
              "<Figure size 640x480 with 1 Axes>"
            ],
            "image/png": "[encoded data removed]"
          },
          "metadata": {}
        },
        {
          "output_type": "display_data",
          "data": {
            "text/plain": [
              "<Figure size 640x480 with 1 Axes>"
            ],
            "image/png": "[encoded data removed]"
          },
          "metadata": {}
        },
        {
          "output_type": "display_data",
          "data": {
            "text/plain": [
              "<Figure size 640x480 with 1 Axes>"
            ],
            "image/png": "[encoded data removed]"
          },
          "metadata": {}
        },
        {
          "output_type": "display_data",
          "data": {
            "text/plain": [
              "<Figure size 640x480 with 1 Axes>"
            ],
            "image/png": "[encoded data removed]"
          },
          "metadata": {}
        },
        {
          "output_type": "display_data",
          "data": {
            "text/plain": [
              "<Figure size 640x480 with 1 Axes>"
            ],
            "image/png": "[encoded data removed]"
          },
          "metadata": {}
        },
        {
          "output_type": "display_data",
          "data": {
            "text/plain": [
              "<Figure size 640x480 with 1 Axes>"
            ],
            "image/png": "[encoded data removed]"
          },
          "metadata": {}
        },
        {
          "output_type": "display_data",
          "data": {
            "text/plain": [
              "<Figure size 640x480 with 1 Axes>"
            ],
            "image/png": "[encoded data removed]"
          },
          "metadata": {}
        },
        {
          "output_type": "display_data",
          "data": {
            "text/plain": [
              "<Figure size 640x480 with 1 Axes>"
            ],
            "image/png": "[encoded data removed]"
          },
          "metadata": {}
        },
        {
          "output_type": "display_data",
          "data": {
            "text/plain": [
              "<Figure size 640x480 with 1 Axes>"
            ],
            "image/png": "[encoded data removed]"
          },
          "metadata": {}
        },
        {
          "output_type": "display_data",
          "data": {
            "text/plain": [
              "<Figure size 640x480 with 1 Axes>"
            ],
            "image/png": "[encoded data removed]"
          },
          "metadata": {}
        },
        {
          "output_type": "display_data",
          "data": {
            "text/plain": [
              "<Figure size 640x480 with 1 Axes>"
            ],
            "image/png": "[encoded data removed]"
          },
          "metadata": {}
        },
        {
          "output_type": "display_data",
          "data": {
            "text/plain": [
              "<Figure size 640x480 with 1 Axes>"
            ],
            "image/png": "[encoded data removed]"
          },
          "metadata": {}
        },
        {
          "output_type": "display_data",
          "data": {
            "text/plain": [
              "<Figure size 640x480 with 1 Axes>"
            ],
            "image/png": "[encoded data removed]"
          },
          "metadata": {}
        }
      ]
    },
    {
      "cell_type": "code",
      "source": [],
      "metadata": {
        "id": "lYcgfQn3GVD9"
      },
      "execution_count": null,
      "outputs": []
    }
  ]
}